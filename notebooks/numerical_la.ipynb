{
 "cells": [
  {
   "cell_type": "code",
   "execution_count": 2,
   "metadata": {},
   "outputs": [],
   "source": [
    "import numpy as np\n",
    "from scipy import linalg \n",
    "import matplotlib.pyplot as plt\n",
    "from numpy.linalg import eig\n",
    "from numpy.linalg import matrix_power\n",
    "import sympy"
   ]
  },
  {
   "cell_type": "code",
   "execution_count": 27,
   "metadata": {},
   "outputs": [
    {
     "data": {
      "text/latex": [
       "$\\displaystyle \\left[\\begin{matrix}1 & \\frac{1}{2} & \\frac{1}{3} & \\frac{1}{4}\\\\\\frac{1}{2} & \\frac{1}{3} & \\frac{1}{4} & \\frac{1}{5}\\\\\\frac{1}{3} & \\frac{1}{4} & \\frac{1}{5} & \\frac{1}{6}\\\\\\frac{1}{4} & \\frac{1}{5} & \\frac{1}{6} & \\frac{1}{7}\\end{matrix}\\right]$"
      ],
      "text/plain": [
       "Matrix([\n",
       "[  1, 1/2, 1/3, 1/4],\n",
       "[1/2, 1/3, 1/4, 1/5],\n",
       "[1/3, 1/4, 1/5, 1/6],\n",
       "[1/4, 1/5, 1/6, 1/7]])"
      ]
     },
     "execution_count": 27,
     "metadata": {},
     "output_type": "execute_result"
    }
   ],
   "source": [
    "from fractions import Fraction\n",
    "\n",
    "hilb_ij = lambda i, j: Fraction(1, (i+j+1))\n",
    "# def hilbert_matrix(n):\n",
    "#     A = []\n",
    "#     for i in range(n):\n",
    "#         A.append([hilb_ij(i, j) for j in range(n)])\n",
    "#     return A\n",
    "\n",
    "hilbert_matrix = lambda n : [[hilb_ij(i,j) for j in range(n)] for i in range(n)]\n",
    "\n",
    "A = hilbert_matrix(4)\n",
    "A = sympy.Matrix(A)\n",
    "A"
   ]
  },
  {
   "cell_type": "code",
   "execution_count": 63,
   "metadata": {},
   "outputs": [],
   "source": []
  },
  {
   "cell_type": "code",
   "execution_count": 64,
   "metadata": {},
   "outputs": [],
   "source": [
    "def forward_sub(L, b, return_count=False):\n",
    "    cnt = 1\n",
    "    N = len(b)\n",
    "    y = [0.0]*N\n",
    "    y[0] = b[0] / L[0,0]\n",
    "    for i in range(1, N):\n",
    "        r = 0\n",
    "        for j in range(i):\n",
    "            r += L[i,j] * y[j]\n",
    "            cnt += 2\n",
    "        y[i] = (b[i] - r) / L[i,i]\n",
    "        cnt += 2\n",
    "    if return_count:\n",
    "        return y, cnt\n",
    "    return y\n",
    "\n",
    "\n",
    "def backward_sub(U, y, return_count=False):\n",
    "    N = len(y)\n",
    "    cnt = 1\n",
    "    x = [0]*N\n",
    "    x[N-1] = y[N-1] / U[N-1, N-1]\n",
    "    for i in range(N-2, -1, -1):\n",
    "        r = 0\n",
    "        for j in range(i+1, N):\n",
    "            r += U[i, j] * x[j]\n",
    "            cnt += 2\n",
    "        x[i] = (y[i] - r) / U[i, i]\n",
    "        cnt += 2\n",
    "    if return_count:\n",
    "        return x, cnt\n",
    "    else:\n",
    "        return x\n",
    "\n",
    "def lu_decmp(B):\n",
    "    N = len(B)\n",
    "    # U = np.diag(np.diag(A))\n",
    "    # L = np.eye(N)\n",
    "    A = np.zeros((N, N))\n",
    "    for j in range(N):\n",
    "        for i in range(j+1):\n",
    "            A[i,j] = B[i,j] - sum([A[i,k]*A[k,j] for k in range(i)])\n",
    "            # print(i, j)\n",
    "            # print(A)\n",
    "        for i in range(j+1, N):\n",
    "            A[i,j] = (B[i,j] - sum(A[i,k]*A[k,j] for k in range(j))) / A[j,j]\n",
    "            # print(i, j)\n",
    "            # print(A)\n",
    "    U = np.triu(A)\n",
    "    L = np.tril(A, -1)\n",
    "    np.fill_diagonal(L, 1)\n",
    "    return L, U\n",
    "\n",
    "def solve(A, b):\n",
    "    L, U = lu_decmp(A)\n",
    "    y = forward_sub(L, b)\n",
    "    x = backward_sub(U, y)\n",
    "    return x"
   ]
  },
  {
   "cell_type": "code",
   "execution_count": 87,
   "metadata": {},
   "outputs": [],
   "source": [
    "import time"
   ]
  },
  {
   "cell_type": "code",
   "execution_count": 90,
   "metadata": {},
   "outputs": [
    {
     "name": "stdout",
     "output_type": "stream",
     "text": [
      "Size\tMy Time\tLAPACK\n",
      "100\t0.12\t0.00\n",
      "200\t0.92\t0.00\n",
      "300\t2.91\t0.09\n",
      "400\t6.67\t0.00\n",
      "500\t12.82\t0.00\n",
      "600\t22.10\t0.01\n",
      "700\t36.49\t0.01\n",
      "800\t52.72\t0.01\n"
     ]
    }
   ],
   "source": [
    "n = 100\n",
    "print(\"Size\\tMy Time\\tLAPACK\")\n",
    "for n in range(1, 9):\n",
    "    n *= 100\n",
    "    A = np.random.randn(n, n)\n",
    "    K = np.array([\n",
    "        [2, -1, 0, 0],\n",
    "        [-1, 2, -1, 0],\n",
    "        [0, -1, 2, -1],\n",
    "        [0, 0, -1, 2]\n",
    "    ])\n",
    "    b = np.zeros(n)\n",
    "    b[0] = 1\n",
    "\n",
    "    start = time.time()\n",
    "    x = solve(A, b)\n",
    "    elapsed1 = time.time() - start\n",
    "    start = time.time()\n",
    "    x2 = linalg.solve(A, b)\n",
    "    elapsed2 = time.time() - start\n",
    "    print(f\"{n}\\t{elapsed1:.2f}\\t{elapsed2:.2f}\")\n",
    "    if not np.allclose(x,x2):\n",
    "        print(\"Different answers\")"
   ]
  }
 ],
 "metadata": {
  "kernelspec": {
   "display_name": "Python 3.7.5 64-bit",
   "language": "python",
   "name": "python3"
  },
  "language_info": {
   "codemirror_mode": {
    "name": "ipython",
    "version": 3
   },
   "file_extension": ".py",
   "mimetype": "text/x-python",
   "name": "python",
   "nbconvert_exporter": "python",
   "pygments_lexer": "ipython3",
   "version": "3.7.5"
  },
  "orig_nbformat": 4,
  "vscode": {
   "interpreter": {
    "hash": "31f2aee4e71d21fbe5cf8b01ff0e069b9275f58929596ceb00d14d90e3e16cd6"
   }
  }
 },
 "nbformat": 4,
 "nbformat_minor": 2
}
