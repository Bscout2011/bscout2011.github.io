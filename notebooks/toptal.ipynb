{
 "cells": [
  {
   "cell_type": "code",
   "execution_count": 2,
   "metadata": {},
   "outputs": [],
   "source": [
    "import numpy as np"
   ]
  },
  {
   "cell_type": "code",
   "execution_count": 72,
   "metadata": {},
   "outputs": [],
   "source": [
    "test1 = np.array([[0,0], [1,1], [1.9,2], [3,3.2], [4,4.1], [5,5.11]])\n",
    "test2 = np.array([[0,0], [1,1], [2,2], [3,3], [4,4], [5,5]])"
   ]
  },
  {
   "cell_type": "code",
   "execution_count": 70,
   "metadata": {},
   "outputs": [],
   "source": [
    "y = test2[:,1]\n",
    "x = test2[:,0]"
   ]
  },
  {
   "cell_type": "code",
   "execution_count": 32,
   "metadata": {},
   "outputs": [],
   "source": [
    "mse = lambda y, e: np.average(np.square(y-e))\n",
    "\n",
    "def update(m, b, L):\n",
    "    yhat = m*x + b\n",
    "    grad = np.array([\n",
    "        -2 * np.average(x * (y - yhat)),\n",
    "        -2 * np.average((y - yhat))\n",
    "    ])\n",
    "    m, b = np.array([m, b]) - .1 * grad\n",
    "    return m, b"
   ]
  },
  {
   "cell_type": "code",
   "execution_count": 71,
   "metadata": {},
   "outputs": [
    {
     "name": "stdout",
     "output_type": "stream",
     "text": [
      "9\n",
      "0.7828962226858909 0.8812702269138167\n"
     ]
    }
   ],
   "source": [
    "m = 1\n",
    "b = 1\n",
    "L = 0.01\n",
    "yhat = m*x + b\n",
    "mse1 = mse(yhat, y)\n",
    "tol = 10E-3\n",
    "for i in range(100):\n",
    "    m, b = update(m, b, L)\n",
    "    yhat = m*x + b\n",
    "    mse2 = mse(yhat, y)\n",
    "    if abs(mse1 - mse2) < tol:\n",
    "        print(i)\n",
    "        break\n",
    "    else:\n",
    "        mse1 = mse2\n",
    "print(m, b)"
   ]
  }
 ],
 "metadata": {
  "kernelspec": {
   "display_name": "Python 3.7.5 64-bit",
   "language": "python",
   "name": "python3"
  },
  "language_info": {
   "codemirror_mode": {
    "name": "ipython",
    "version": 3
   },
   "file_extension": ".py",
   "mimetype": "text/x-python",
   "name": "python",
   "nbconvert_exporter": "python",
   "pygments_lexer": "ipython3",
   "version": "3.7.5"
  },
  "orig_nbformat": 4,
  "vscode": {
   "interpreter": {
    "hash": "31f2aee4e71d21fbe5cf8b01ff0e069b9275f58929596ceb00d14d90e3e16cd6"
   }
  }
 },
 "nbformat": 4,
 "nbformat_minor": 2
}
