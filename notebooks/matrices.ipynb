{
 "cells": [
  {
   "cell_type": "markdown",
   "metadata": {},
   "source": [
    "# Linear Algebra Practice"
   ]
  },
  {
   "cell_type": "code",
   "execution_count": 2,
   "metadata": {},
   "outputs": [],
   "source": [
    "import numpy as np\n",
    "from scipy import linalg \n",
    "import matplotlib.pyplot as plt\n",
    "from numpy.linalg import eig\n",
    "from numpy.linalg import matrix_power"
   ]
  },
  {
   "cell_type": "code",
   "execution_count": 3,
   "metadata": {},
   "outputs": [
    {
     "name": "stdout",
     "output_type": "stream",
     "text": [
      "[[1. 0. 0. 0.]\n",
      " [0. 1. 0. 0.]\n",
      " [0. 0. 1. 0.]\n",
      " [1. 0. 0. 1.]] \n",
      " [[ 1.  1.  1.  1.]\n",
      " [ 0.  1.  1.  1.]\n",
      " [ 0.  0.  1.  1.]\n",
      " [ 0.  0.  0. -1.]]\n"
     ]
    }
   ],
   "source": [
    "x = 1\n",
    "A = np.array([\n",
    "    [x, x , x, x],\n",
    "    [x, x, x, 0],\n",
    "    [0, x, x, x],\n",
    "    [0, 0, x, x]\n",
    "])\n",
    "\n",
    "P, L, U = linalg.lu(A)\n",
    "print(L, \"\\n\", U)"
   ]
  },
  {
   "cell_type": "code",
   "execution_count": 4,
   "metadata": {},
   "outputs": [
    {
     "name": "stdout",
     "output_type": "stream",
     "text": [
      "[[ 1.          0.          0.          0.          0.          0.        ]\n",
      " [-0.5         1.          0.          0.          0.          0.        ]\n",
      " [ 0.         -0.66666667  1.          0.          0.          0.        ]\n",
      " [ 0.          0.         -0.75        1.          0.          0.        ]\n",
      " [ 0.          0.          0.         -0.8         1.          0.        ]\n",
      " [ 0.          0.          0.          0.         -0.83333333  1.        ]]\n",
      "[[ 2.         -1.          0.          0.          0.          0.        ]\n",
      " [ 0.          1.5        -1.          0.          0.          0.        ]\n",
      " [ 0.          0.          1.33333333 -1.          0.          0.        ]\n",
      " [ 0.          0.          0.          1.25       -1.          0.        ]\n",
      " [ 0.          0.          0.          0.          1.2        -1.        ]\n",
      " [ 0.          0.          0.          0.          0.          1.16666667]]\n"
     ]
    }
   ],
   "source": [
    "K = linalg.toeplitz([2, -1, 0, 0, 0, 0])\n",
    "P, L, U = linalg.lu(K)\n",
    "print(L)\n",
    "print(U)"
   ]
  },
  {
   "cell_type": "code",
   "execution_count": 5,
   "metadata": {},
   "outputs": [],
   "source": [
    "def hilb(n):\n",
    "    A = np.zeros((n, n))\n",
    "    for i in range(n):\n",
    "        for j in range(n):\n",
    "            A[i,j] = 1 / (i + j + 1)\n",
    "    return A"
   ]
  },
  {
   "cell_type": "code",
   "execution_count": 6,
   "metadata": {},
   "outputs": [
    {
     "data": {
      "text/plain": [
       "[<matplotlib.lines.Line2D at 0x7f5c8120e490>]"
      ]
     },
     "execution_count": 6,
     "metadata": {},
     "output_type": "execute_result"
    },
    {
     "data": {
      "image/png": "[encoded data removed]",
      "text/plain": [
       "<Figure size 432x288 with 1 Axes>"
      ]
     },
     "metadata": {
      "needs_background": "light"
     },
     "output_type": "display_data"
    }
   ],
   "source": [
    "ds = [linalg.det(hilb(n)) for n in range(1, 11)]\n",
    "plt.plot(ds)"
   ]
  },
  {
   "cell_type": "code",
   "execution_count": 7,
   "metadata": {},
   "outputs": [
    {
     "name": "stdout",
     "output_type": "stream",
     "text": [
      "[[ 1.00000000e+00  5.00000000e-01  3.33333333e-01  2.50000000e-01\n",
      "   2.00000000e-01]\n",
      " [ 0.00000000e+00  8.33333333e-02  8.88888889e-02  8.33333333e-02\n",
      "   7.61904762e-02]\n",
      " [ 0.00000000e+00  0.00000000e+00 -5.55555556e-03 -8.33333333e-03\n",
      "  -9.52380952e-03]\n",
      " [ 0.00000000e+00  0.00000000e+00  0.00000000e+00  7.14285714e-04\n",
      "   1.45124717e-03]\n",
      " [ 0.00000000e+00  0.00000000e+00  0.00000000e+00  0.00000000e+00\n",
      "  -1.13378685e-05]]\n"
     ]
    }
   ],
   "source": [
    "_, _, U = linalg.lu(hilb(5))\n",
    "print(U)"
   ]
  },
  {
   "cell_type": "code",
   "execution_count": 8,
   "metadata": {},
   "outputs": [
    {
     "name": "stdout",
     "output_type": "stream",
     "text": [
      "-393643.4448856169, -9.951857529958075e+30\n",
      "8.5021156764237e+25, -8.349241492289058e+76\n",
      "2.247233973178217e+80, 3.685079465098633e+188\n",
      "4.781543409790431e+219, inf\n"
     ]
    }
   ],
   "source": [
    "for n in [50, 100, 200, 400]:\n",
    "    A = np.random.rand(n, n)\n",
    "    print(linalg.det(A), end=\", \")\n",
    "    A = np.random.randn(n, n)\n",
    "    print(linalg.det(A))"
   ]
  },
  {
   "cell_type": "code",
   "execution_count": 9,
   "metadata": {},
   "outputs": [
    {
     "data": {
      "text/plain": [
       "(array([1.00000000e+00+0.j, 5.55111512e-17+0.j]),\n",
       " array([[ 0.83205029, -0.70710678],\n",
       "        [ 0.5547002 ,  0.70710678]]))"
      ]
     },
     "execution_count": 9,
     "metadata": {},
     "output_type": "execute_result"
    }
   ],
   "source": [
    "A = np.array([\n",
    "    [.8, .3],\n",
    "    [.2, .7]\n",
    "])\n",
    "\n",
    "linalg.eig(np.linalg.matrix_power(A, 100))"
   ]
  },
  {
   "cell_type": "code",
   "execution_count": 10,
   "metadata": {},
   "outputs": [
    {
     "name": "stdout",
     "output_type": "stream",
     "text": [
      "(array([-1.,  5.]), array([[-0.89442719, -0.70710678],\n",
      "       [ 0.4472136 , -0.70710678]]))\n",
      "(array([0., 6.]), array([[-0.89442719, -0.70710678],\n",
      "       [ 0.4472136 , -0.70710678]]))\n"
     ]
    }
   ],
   "source": [
    "A = np.array([\n",
    "    [1, 4],\n",
    "    [2, 3]\n",
    "])\n",
    "\n",
    "print(eig(A))\n",
    "print(eig(A+np.eye(2)))"
   ]
  },
  {
   "cell_type": "code",
   "execution_count": 11,
   "metadata": {},
   "outputs": [
    {
     "name": "stdout",
     "output_type": "stream",
     "text": [
      "(array([0.4, 1. ]), array([[-0.89442719, -0.70710678],\n",
      "       [ 0.4472136 , -0.70710678]]))\n"
     ]
    }
   ],
   "source": [
    "A = np.array([\n",
    "    [.6, .2],\n",
    "    [.4, .8]\n",
    "])\n",
    "print(eig(A.T))\n"
   ]
  },
  {
   "cell_type": "code",
   "execution_count": 12,
   "metadata": {},
   "outputs": [
    {
     "data": {
      "text/plain": [
       "(array([0., 1., 1.]),\n",
       " array([[-0.89442719, -0.4472136 ,  0.        ],\n",
       "        [ 0.4472136 , -0.89442719,  0.        ],\n",
       "        [ 0.        ,  0.        ,  1.        ]]))"
      ]
     },
     "execution_count": 12,
     "metadata": {},
     "output_type": "execute_result"
    }
   ],
   "source": [
    "A = np.array([\n",
    "    [.2, .4, 0],\n",
    "    [.4, .8, 0],\n",
    "    [0, 0, 1]\n",
    "])\n",
    "\n",
    "eig(A)"
   ]
  },
  {
   "cell_type": "code",
   "execution_count": 13,
   "metadata": {},
   "outputs": [
    {
     "data": {
      "text/plain": [
       "array([[0.],\n",
       "       [0.],\n",
       "       [0.],\n",
       "       [0.]])"
      ]
     },
     "execution_count": 13,
     "metadata": {},
     "output_type": "execute_result"
    }
   ],
   "source": [
    "u = np.array([1/6, 1/6, 3/6, 5/6]).reshape(-1, 1)\n",
    "P = u @ u.T\n",
    "\n",
    "v = np.array([-1, 1, 0, 0]).reshape(-1, 1)\n",
    "P @ v"
   ]
  },
  {
   "cell_type": "code",
   "execution_count": 14,
   "metadata": {},
   "outputs": [
    {
     "data": {
      "text/plain": [
       "(array([ 1., -1.,  1.]),\n",
       " array([[ 0.70710678, -0.70710678,  0.        ],\n",
       "        [ 0.        ,  0.        ,  1.        ],\n",
       "        [ 0.70710678,  0.70710678,  0.        ]]))"
      ]
     },
     "execution_count": 14,
     "metadata": {},
     "output_type": "execute_result"
    }
   ],
   "source": [
    "P = np.array([\n",
    "    [0, 0, 1],\n",
    "    [0, 1, 0],\n",
    "    [1, 0, 0]\n",
    "])\n",
    "eig(P)"
   ]
  },
  {
   "cell_type": "code",
   "execution_count": 15,
   "metadata": {},
   "outputs": [
    {
     "data": {
      "text/plain": [
       "(array([ 5.00000000e+00+0.00000000e+00j, -9.65312809e-17+9.86689888e-17j,\n",
       "        -9.65312809e-17-9.86689888e-17j]),\n",
       " array([[ 0.40824829+0.j        , -0.15570428+0.19729153j,\n",
       "         -0.15570428-0.19729153j],\n",
       "        [ 0.81649658+0.j        ,  0.76095167+0.j        ,\n",
       "          0.76095167-0.j        ],\n",
       "        [ 0.40824829+0.j        , -0.4495431 -0.39458306j,\n",
       "         -0.4495431 +0.39458306j]]))"
      ]
     },
     "execution_count": 15,
     "metadata": {},
     "output_type": "execute_result"
    }
   ],
   "source": [
    "u = np.array([1, 2, 1]).reshape(-1, 1)\n",
    "v = np.array([2, 1, 1]).reshape(-1, 1)\n",
    "eig(u@v.T)"
   ]
  },
  {
   "cell_type": "code",
   "execution_count": 16,
   "metadata": {},
   "outputs": [
    {
     "data": {
      "text/plain": [
       "(array([ 1., -3.,  1.,  1.]),\n",
       " array([[ 8.66025404e-01, -5.00000000e-01,  2.16993756e-01,\n",
       "          0.00000000e+00],\n",
       "        [-2.88675135e-01, -5.00000000e-01, -8.62781874e-01,\n",
       "         -3.39032612e-18],\n",
       "        [-2.88675135e-01, -5.00000000e-01,  3.22894059e-01,\n",
       "         -7.07106781e-01],\n",
       "        [-2.88675135e-01, -5.00000000e-01,  3.22894059e-01,\n",
       "          7.07106781e-01]]))"
      ]
     },
     "execution_count": 16,
     "metadata": {},
     "output_type": "execute_result"
    }
   ],
   "source": [
    "A = np.ones((4,4))\n",
    "eig(np.eye(4) - A)"
   ]
  },
  {
   "cell_type": "code",
   "execution_count": 17,
   "metadata": {},
   "outputs": [],
   "source": [
    "A = np.array([\n",
    "    [.6, .9],\n",
    "    [.1, .6]\n",
    "])\n",
    "L, S = eig(A)\n",
    "l1 = (L**10)[0]"
   ]
  },
  {
   "cell_type": "code",
   "execution_count": 18,
   "metadata": {},
   "outputs": [
    {
     "data": {
      "text/plain": [
       "(array([-5., 10.]),\n",
       " array([[-0.89442719, -0.4472136 ],\n",
       "        [ 0.4472136 , -0.89442719]]))"
      ]
     },
     "execution_count": 18,
     "metadata": {},
     "output_type": "execute_result"
    }
   ],
   "source": [
    "A = np.array([\n",
    "    [2, 2, 2],\n",
    "    [2, 0, 0],\n",
    "    [2, 0, 0]\n",
    "])\n",
    "A = np.array([\n",
    "    [-2, 6],\n",
    "    [6, 7]\n",
    "])\n",
    "eig(A)"
   ]
  },
  {
   "cell_type": "code",
   "execution_count": 19,
   "metadata": {},
   "outputs": [
    {
     "data": {
      "text/plain": [
       "(array([1., 1.]),\n",
       " array([[1.        , 0.66926022],\n",
       "        [0.        , 0.7430281 ]]))"
      ]
     },
     "execution_count": 19,
     "metadata": {},
     "output_type": "execute_result"
    }
   ],
   "source": [
    "A = np.array([\n",
    "    [0, 0, 1],\n",
    "    [0, 1, 0],\n",
    "    [1, 0, 0]\n",
    "])\n",
    "A = np.ones((3,3))\n",
    "A = np.array([\n",
    "    [1, 1E-15],\n",
    "    [0, 1+1E-15]\n",
    "])\n",
    "eig(A)"
   ]
  },
  {
   "cell_type": "code",
   "execution_count": 20,
   "metadata": {},
   "outputs": [
    {
     "data": {
      "text/plain": [
       "array([[-63.97013594,   2.97013594],\n",
       "       [-61.3177025 ,   2.92994739],\n",
       "       [-58.66526986,   2.88975965],\n",
       "       [-56.01283813,   2.84957283],\n",
       "       [-53.36040745,   2.80938705],\n",
       "       [-50.70797798,   2.76920247],\n",
       "       [-48.05554991,   2.7290193 ],\n",
       "       [-45.40312347,   2.68883776],\n",
       "       [-42.75069895,   2.64865814],\n",
       "       [-40.09827672,   2.60848081],\n",
       "       [-37.44585724,   2.56830622],\n",
       "       [-34.7934411 ,   2.52813498],\n",
       "       [-32.14102909,   2.48796787],\n",
       "       [-29.48862224,   2.44780592],\n",
       "       [-26.83622199,   2.40765056],\n",
       "       [-24.18383033,   2.3675038 ],\n",
       "       [-21.53145019,   2.32736856],\n",
       "       [-18.87908595,   2.28724921],\n",
       "       [-16.22674457,   2.24715273],\n",
       "       [-13.57443774,   2.2070908 ],\n",
       "       [-10.92218679,   2.16708475],\n",
       "       [ -8.27003514,   2.12717799],\n",
       "       [ -5.61808683,   2.08747459],\n",
       "       [ -2.96666934,   2.048302  ],\n",
       "       [ -0.31762369,   2.01150125],\n",
       "       [  2.37685421,   1.92926824],\n",
       "       [  4.9983773 ,   1.91999004],\n",
       "       [  7.64858671,   1.88202553],\n",
       "       [ 10.30021718,   1.84263997],\n",
       "       [ 12.95223983,   1.80286221],\n",
       "       [ 15.60442587,   1.76292107],\n",
       "       [ 18.25669549,   1.72289635],\n",
       "       [ 20.90901357,   1.68282317],\n",
       "       [ 23.56136225,   1.64271938],\n",
       "       [ 26.2137315 ,   1.60259503],\n",
       "       [ 28.86611522,   1.5624562 ],\n",
       "       [ 31.51850953,   1.5223068 ],\n",
       "       [ 34.1709118 ,   1.48214943],\n",
       "       [ 36.82332021,   1.44198591],\n",
       "       [ 39.47573347,   1.40181755],\n",
       "       [ 42.12815061,   1.36164531],\n",
       "       [ 44.78057092,   1.3214699 ],\n",
       "       [ 47.43299383,   1.28129189],\n",
       "       [ 50.08541891,   1.2411117 ],\n",
       "       [ 52.73784584,   1.20092967],\n",
       "       [ 55.39027432,   1.16074609],\n",
       "       [ 58.04270415,   1.12056116],\n",
       "       [ 60.69513513,   1.08037507],\n",
       "       [ 63.34756712,   1.04018798],\n",
       "       [ 66.        ,   1.        ]])"
      ]
     },
     "execution_count": 20,
     "metadata": {},
     "output_type": "execute_result"
    },
    {
     "data": {
      "image/png": "[encoded data removed]",
      "text/plain": [
       "<Figure size 432x288 with 1 Axes>"
      ]
     },
     "metadata": {
      "needs_background": "light"
     },
     "output_type": "display_data"
    }
   ],
   "source": [
    "A = np.array([\n",
    "    [1, 0],\n",
    "    [0, 2]\n",
    "])\n",
    "B = np.array([\n",
    "    [8, 1],\n",
    "    [1, 0]\n",
    "])\n",
    "\n",
    "t_e = np.linspace(-8, 8)\n",
    "C = [A + t*B for t in t_e]\n",
    "evals = np.array([np.linalg.eigvals(c) for c in C])\n",
    "plt.plot(t_e, evals[:,0])\n",
    "plt.plot(t_e, evals[:,1])\n",
    "evals"
   ]
  },
  {
   "cell_type": "code",
   "execution_count": 21,
   "metadata": {},
   "outputs": [
    {
     "name": "stderr",
     "output_type": "stream",
     "text": [
      "/home/alw/.local/lib/python3.7/site-packages/ipykernel_launcher.py:14: UserWarning: The following kwargs were not used by contour: 'linewidth'\n",
      "  \n"
     ]
    },
    {
     "data": {
      "text/plain": [
       "<matplotlib.contour.QuadContourSet at 0x7f5c7f153b90>"
      ]
     },
     "execution_count": 21,
     "metadata": {},
     "output_type": "execute_result"
    },
    {
     "data": {
      "image/png": "[encoded data removed]",
      "text/plain": [
       "<Figure size 432x288 with 1 Axes>"
      ]
     },
     "metadata": {
      "needs_background": "light"
     },
     "output_type": "display_data"
    }
   ],
   "source": [
    "A = np.array([\n",
    "    [5, 6],\n",
    "    [6, 7]\n",
    "])\n",
    "\n",
    "x = np.linspace(-1, 1)\n",
    "x1, x2 = np.meshgrid(x, x)\n",
    "X = np.array((x1, x2)).reshape(2, -1)\n",
    "out = (X.T.dot(A)*X.T).sum(axis=1).reshape(x1.shape)\n",
    "\n",
    "fig, ax = plt.subplots(subplot_kw={\"projection\": \"3d\"})\n",
    "\n",
    "ax.contourf(x1, x2, out,\n",
    "    linewidth=0, antialiased=False)"
   ]
  },
  {
   "cell_type": "code",
   "execution_count": 22,
   "metadata": {},
   "outputs": [
    {
     "data": {
      "image/png": "[encoded data removed]",
      "text/plain": [
       "<Figure size 432x288 with 1 Axes>"
      ]
     },
     "metadata": {
      "needs_background": "light"
     },
     "output_type": "display_data"
    }
   ],
   "source": [
    "def nonlinear_recurrence(b, k=50, y_0=1):\n",
    "    y_k = [y_0]\n",
    "    for _ in range(k):\n",
    "        y_k += [y_k[-1] / (b + y_k[-1])]\n",
    "    return y_k\n",
    "\n",
    "sols = [nonlinear_recurrence(b, y_0=-1) for b in range(-10, -1)]\n",
    "for sol in sols:\n",
    "    plt.plot(sol)"
   ]
  },
  {
   "cell_type": "code",
   "execution_count": 23,
   "metadata": {},
   "outputs": [
    {
     "data": {
      "text/plain": [
       "0.414213562373095"
      ]
     },
     "execution_count": 23,
     "metadata": {},
     "output_type": "execute_result"
    }
   ],
   "source": [
    "from math import sqrt\n",
    "\n",
    "\n",
    "lam1 = (1+sqrt(2))\n",
    "lam2 = (1 - sqrt(2))\n",
    "c1 = .5 - .25*sqrt(2)\n",
    "c2 = -.5 + .25*sqrt(2)\n",
    "\n",
    "y_k = lambda k: c1*(lam1)**k + c2*lam2**k\n",
    "y_k(1)"
   ]
  },
  {
   "cell_type": "code",
   "execution_count": 24,
   "metadata": {},
   "outputs": [
    {
     "data": {
      "text/plain": [
       "[<matplotlib.lines.Line2D at 0x7f5c7ecfe610>]"
      ]
     },
     "execution_count": 24,
     "metadata": {},
     "output_type": "execute_result"
    },
    {
     "data": {
      "image/png": "[encoded data removed]",
      "text/plain": [
       "<Figure size 432x288 with 1 Axes>"
      ]
     },
     "metadata": {
      "needs_background": "light"
     },
     "output_type": "display_data"
    }
   ],
   "source": [
    "def intelligence_test(k):\n",
    "    if k == 1:\n",
    "        return 1\n",
    "    elif k == 2:\n",
    "        return 2\n",
    "    elif k == 0:\n",
    "        return 0\n",
    "    y_k = [1, 2]\n",
    "    for _ in range(k-2):\n",
    "        y_k += [2*y_k[-1] + y_k[-2]]\n",
    "    return y_k[-1]\n",
    "\n",
    "ratios = [intelligence_test(k+1) / intelligence_test(k) for k in range(10, 100)]\n",
    "plt.plot(range(10, 100), ratios)"
   ]
  },
  {
   "cell_type": "code",
   "execution_count": 25,
   "metadata": {},
   "outputs": [
    {
     "data": {
      "text/plain": [
       "(array([[-0.85065081, -0.52573111],\n",
       "        [-0.52573111,  0.85065081]]),\n",
       " array([1.61803399, 0.61803399]),\n",
       " array([[-0.85065081, -0.52573111],\n",
       "        [ 0.52573111, -0.85065081]]))"
      ]
     },
     "execution_count": 25,
     "metadata": {},
     "output_type": "execute_result"
    }
   ],
   "source": [
    "A = np.array([\n",
    "    [1, 1,],\n",
    "    [1, 0]\n",
    "])\n",
    "linalg.svd(A)"
   ]
  },
  {
   "cell_type": "code",
   "execution_count": 26,
   "metadata": {},
   "outputs": [
    {
     "data": {
      "image/png": "[encoded data removed]",
      "text/plain": [
       "<Figure size 432x288 with 1 Axes>"
      ]
     },
     "metadata": {
      "needs_background": "light"
     },
     "output_type": "display_data"
    }
   ],
   "source": [
    "def first_order(k, u, a=0.75, plot=True):\n",
    "    # show output of a system as a composite of several inputs over time\n",
    "    x_k = np.zeros((k+1, k))\n",
    "    for l in range(k):\n",
    "        for i in range(l+1):\n",
    "            x_k[l+1, i] += a * x_k[l, i]\n",
    "            if i == l:\n",
    "                x_k[l+1, i] += u[l]\n",
    "    for i in range(k):\n",
    "        if i == 0:\n",
    "            plt.bar(range(k+1), x_k[:,i])\n",
    "        else:\n",
    "            plt.bar(range(k+1), x_k[:,i], bottom=x_k[:,:i].sum(axis=1))\n",
    "    return x_k\n",
    "\n",
    "k = 10\n",
    "u = np.zeros(k)\n",
    "u[0] = 2\n",
    "u[2] = 2\n",
    "u[4] = 1\n",
    "\n",
    "sys = first_order(k, u)"
   ]
  },
  {
   "cell_type": "code",
   "execution_count": 27,
   "metadata": {},
   "outputs": [
    {
     "name": "stdout",
     "output_type": "stream",
     "text": [
      "Random walk state freuqnecy: [0.04 0.18 0.34 0.44]\n",
      "Steady State eigenvector: [0.09494438 0.20486838 0.29364467 0.40654257]\n"
     ]
    },
    {
     "data": {
      "text/plain": [
       "<BarContainer object of 4 artists>"
      ]
     },
     "execution_count": 27,
     "metadata": {},
     "output_type": "execute_result"
    },
    {
     "data": {
      "image/png": "[encoded data removed]",
      "text/plain": [
       "<Figure size 432x288 with 1 Axes>"
      ]
     },
     "metadata": {
      "needs_background": "light"
     },
     "output_type": "display_data"
    }
   ],
   "source": [
    "A = np.array([\n",
    "    [0, .1, .2, .7],\n",
    "    [.05, 0, .15, .8],\n",
    "    [.15, .25, 0, .6],\n",
    "    [.1, .3, .6, 0]\n",
    "]).T\n",
    "n = 100\n",
    "x = np.zeros(n, dtype=int)\n",
    "x[0] = 0\n",
    "for k in range(1, n):\n",
    "    x[k] = np.random.choice(np.arange(A.shape[0]), p=A[:, x[k-1]])\n",
    "g, hist = np.unique(x, return_counts=True)\n",
    "print(\"Random walk state freuqnecy:\", hist/n)\n",
    "_, u = eig(A)\n",
    "print(\"Steady State eigenvector:\", u[:,0] / u[:,0].sum())\n",
    "plt.bar(g, hist/n)"
   ]
  },
  {
   "cell_type": "code",
   "execution_count": 28,
   "metadata": {},
   "outputs": [
    {
     "data": {
      "text/plain": [
       "array([[13, 16,  8, 36, 12],\n",
       "       [18, 21, 10, 48, 16],\n",
       "       [14, 16,  7, 36, 12],\n",
       "       [ 0,  0,  0,  1,  0],\n",
       "       [10, 12,  6, 28,  9]])"
      ]
     },
     "execution_count": 28,
     "metadata": {},
     "output_type": "execute_result"
    }
   ],
   "source": [
    "A = np.array([\n",
    "    [0, 1, 1, 0, 0],\n",
    "    [0,1,0,0,1],\n",
    "    [1,0,0,0,0],\n",
    "    [0,1,0,1,1],\n",
    "    [1,0,1,0,0]\n",
    "]).T\n",
    "B = np.ones((5,5),dtype=int)\n",
    "np.linalg.matrix_power(A,7)"
   ]
  },
  {
   "cell_type": "code",
   "execution_count": 29,
   "metadata": {},
   "outputs": [],
   "source": [
    "url = \"https://ee263.stanford.edu/julia/files/pop_dyn_data.json\"\n",
    "\n",
    "def load_problem_json(url):\n",
    "    import urllib3, json\n",
    "    http = urllib3.PoolManager()\n",
    "    r = http.request(\"GET\", url)\n",
    "    raw_data = json.loads(r.data.decode('utf-8'))\n",
    "    datatype_strings = {\n",
    "        \"Int64\": int,\n",
    "        \"Float64\": float,\n",
    "        \"String\": str,\n",
    "        \"Bool\": int\n",
    "    }\n",
    "    formatted_data = dict()\n",
    "    for var in raw_data:\n",
    "        vartype = datatype_strings[raw_data[var][\"type\"]]\n",
    "        vardata = raw_data[var][\"data\"]\n",
    "        vardata = np.array(vardata, dtype=vartype)\n",
    "        formatted_data[var] = vardata\n",
    "    print(formatted_data.keys())\n",
    "    return formatted_data"
   ]
  },
  {
   "cell_type": "code",
   "execution_count": 30,
   "metadata": {},
   "outputs": [
    {
     "name": "stdout",
     "output_type": "stream",
     "text": [
      "dict_keys(['A', 'n'])\n"
     ]
    }
   ],
   "source": [
    "data = load_problem_json(url)\n",
    "A = data[\"A\"]\n",
    "n = data[\"n\"]"
   ]
  },
  {
   "cell_type": "code",
   "execution_count": 31,
   "metadata": {},
   "outputs": [
    {
     "name": "stdout",
     "output_type": "stream",
     "text": [
      "4\n"
     ]
    },
    {
     "data": {
      "text/plain": [
       "array([4., 2., 1., 0., 4., 3., 3., 2., 4., 3.])"
      ]
     },
     "execution_count": 31,
     "metadata": {},
     "output_type": "execute_result"
    }
   ],
   "source": [
    "x = np.zeros((n, 1))\n",
    "x[3] = 1\n",
    "\n",
    "s = np.zeros(n)\n",
    "v = np.ones(n)\n",
    "t = 0\n",
    "v[3] = 0\n",
    "while not np.all(v==0):\n",
    "    t = t+1\n",
    "    x_1 = np.linalg.matrix_power(A,t)@x\n",
    "    v_1 = v * x_1.reshape(-1)\n",
    "    for i in range(n):\n",
    "        if v_1[i] != 0:\n",
    "            s[i] = t\n",
    "            v[i] = 0\n",
    "    if t > 20:\n",
    "        break\n",
    "print(t)\n",
    "s"
   ]
  },
  {
   "cell_type": "code",
   "execution_count": 32,
   "metadata": {},
   "outputs": [
    {
     "data": {
      "text/plain": [
       "[<matplotlib.lines.Line2D at 0x7f5c7e155f90>]"
      ]
     },
     "execution_count": 32,
     "metadata": {},
     "output_type": "execute_result"
    },
    {
     "data": {
      "image/png": "[encoded data removed]",
      "text/plain": [
       "<Figure size 432x288 with 1 Axes>"
      ]
     },
     "metadata": {
      "needs_background": "light"
     },
     "output_type": "display_data"
    }
   ],
   "source": [
    "A_10 = np.linalg.matrix_power(A, 9)\n",
    "x_0 = A_10[0]\n",
    "x_0[x_0 < 0] = -1\n",
    "x_0[x_0 > 0] = 1\n",
    "x_0 = x_0.reshape(-1, 1)\n",
    "species1 = []\n",
    "for t in range(100):\n",
    "    A_k = np.linalg.matrix_power(A,t)\n",
    "    species1 += [(A_k @ x_0)[0]]\n",
    "\n",
    "plt.plot(species1)"
   ]
  },
  {
   "cell_type": "code",
   "execution_count": 33,
   "metadata": {},
   "outputs": [
    {
     "data": {
      "text/plain": [
       "array([[1, 0, 0],\n",
       "       [0, 1, 0],\n",
       "       [0, 0, 1]])"
      ]
     },
     "execution_count": 33,
     "metadata": {},
     "output_type": "execute_result"
    }
   ],
   "source": [
    "A = np.array([\n",
    "    [-1, 0, 0, -1, 1],\n",
    "    [0, 1, 1, 0, 0],\n",
    "    [1, 0, 0, 1, 0]\n",
    "])\n",
    "\n",
    "Ba = np.array([\n",
    "    [0, 0, 0, 0, 1],\n",
    "    [0, 0, 1, 0, 0],\n",
    "    [2, 0, 0, -1, 1]\n",
    "]).T\n",
    "\n",
    "A@Ba"
   ]
  },
  {
   "cell_type": "code",
   "execution_count": 34,
   "metadata": {},
   "outputs": [
    {
     "name": "stdout",
     "output_type": "stream",
     "text": [
      "dict_keys(['n', 'F', 'xmin', 'xmax', 'a', 'alpha', 'beta', 'gamma', 'Cext', 'Amax'])\n"
     ]
    }
   ],
   "source": [
    "url = \"https://ee263.stanford.edu/julia/files/gate_sizing_data.json\"\n",
    "data = load_problem_json(url)"
   ]
  },
  {
   "cell_type": "code",
   "execution_count": 35,
   "metadata": {},
   "outputs": [],
   "source": [
    "n = data[\"n\"]\n",
    "F = data[\"F\"]\n",
    "alpha = data[\"alpha\"]\n",
    "xmin = data[\"xmin\"]\n",
    "xmax = data[\"xmax\"]\n",
    "a = data[\"a\"]\n",
    "beta = data[\"beta\"]\n",
    "gamma = data[\"gamma\"]\n",
    "Cext = data[\"Cext\"]\n",
    "Amax = data[\"Amax\"]"
   ]
  },
  {
   "cell_type": "code",
   "execution_count": 36,
   "metadata": {},
   "outputs": [
    {
     "data": {
      "text/plain": [
       "<matplotlib.lines.Line2D at 0x7f5c7e032990>"
      ]
     },
     "execution_count": 36,
     "metadata": {},
     "output_type": "execute_result"
    },
    {
     "data": {
      "image/png": "[encoded data removed]",
      "text/plain": [
       "<Figure size 432x288 with 3 Axes>"
      ]
     },
     "metadata": {
      "needs_background": "light"
     },
     "output_type": "display_data"
    }
   ],
   "source": [
    "dT = 0.001\n",
    "xmins = []\n",
    "xmaxes = []\n",
    "Asize = []\n",
    "Ts = []\n",
    "# implement bisection search\n",
    "Ta = np.max(beta) + 0.001\n",
    "Tb = 10 * np.max(beta)\n",
    "for i in range(1000, 2000):\n",
    "    T = np.max(beta) + i*dT\n",
    "    Ts += [T]\n",
    "    K = np.diag(beta) + np.diag(gamma) @ F @ np.diag(alpha)\n",
    "    A = T * np.eye(n) - K\n",
    "    b = np.diag(gamma) @ Cext.reshape(-1, 1)\n",
    "\n",
    "    x = np.linalg.inv(A) @ b\n",
    "    xmins += [x.min()]\n",
    "    xmaxes += [x.max()]\n",
    "    Asize += [np.dot(a, x)]\n",
    "\n",
    "fig, axs = plt.subplots(3, 1, tight_layout=True)\n",
    "\n",
    "axs[0].plot(Ts, xmins)\n",
    "axs[0].axhline(xmin, color='r')\n",
    "axs[1].plot(Ts, xmaxes)\n",
    "axs[1].axhline(xmax, color='r')\n",
    "axs[2].plot(Ts, Asize)\n",
    "axs[2].axhline(Amax, color='r')"
   ]
  },
  {
   "cell_type": "code",
   "execution_count": 37,
   "metadata": {},
   "outputs": [
    {
     "name": "stdout",
     "output_type": "stream",
     "text": [
      "Converged after 12 iterations\n"
     ]
    },
    {
     "data": {
      "text/plain": [
       "[<matplotlib.lines.Line2D at 0x7f5c7df614d0>]"
      ]
     },
     "execution_count": 37,
     "metadata": {},
     "output_type": "execute_result"
    },
    {
     "data": {
      "image/png": "[encoded data removed]",
      "text/plain": [
       "<Figure size 432x288 with 1 Axes>"
      ]
     },
     "metadata": {
      "needs_background": "light"
     },
     "output_type": "display_data"
    }
   ],
   "source": [
    "# implement bisection search\n",
    "Ta = np.max(beta) + 0.001\n",
    "Tb = 10 * np.max(beta)\n",
    "T0 = Ta\n",
    "Tcs = []\n",
    "for i in range(100):\n",
    "    Tc = (Ta + Tb)/2\n",
    "    Tcs += [Tc]\n",
    "    K = np.diag(beta) + np.diag(gamma) @ F @ np.diag(alpha)\n",
    "    A = Tc * np.eye(n) - K\n",
    "    b = np.diag(gamma) @ Cext.reshape(-1, 1)\n",
    "\n",
    "    x = np.linalg.inv(A) @ b\n",
    "    if x.max() >= xmax and np.dot(a, x) >= Amax:\n",
    "        # Tc is infeasible, increase Ta to Tc\n",
    "        Ta = Tc\n",
    "    else:  # feasible\n",
    "        Tb = Tc\n",
    "    if abs(Ta - Tb) < 0.001:\n",
    "        print(f\"Converged after {i} iterations\")\n",
    "        break\n",
    "    \n",
    "plt.plot(Tcs)"
   ]
  },
  {
   "cell_type": "code",
   "execution_count": 38,
   "metadata": {},
   "outputs": [
    {
     "name": "stdout",
     "output_type": "stream",
     "text": [
      "dict_keys(['n', 'x'])\n"
     ]
    }
   ],
   "source": [
    "url = \"https://ee263.stanford.edu/julia/files/robot_coin_collector.json\"\n",
    "data = load_problem_json(url)"
   ]
  },
  {
   "cell_type": "code",
   "execution_count": 39,
   "metadata": {},
   "outputs": [
    {
     "data": {
      "text/plain": [
       "[<matplotlib.lines.Line2D at 0x7f5c7ecc4150>]"
      ]
     },
     "execution_count": 39,
     "metadata": {},
     "output_type": "execute_result"
    },
    {
     "data": {
      "image/png": "[encoded data removed]",
      "text/plain": [
       "<Figure size 432x288 with 1 Axes>"
      ]
     },
     "metadata": {
      "needs_background": "light"
     },
     "output_type": "display_data"
    }
   ],
   "source": [
    "n = data[\"n\"]\n",
    "xr = data[\"x\"]\n",
    "x = xr.reshape(n, -1)\n",
    "plt.plot(x[:,0], x[:,1], 'o')"
   ]
  },
  {
   "cell_type": "code",
   "execution_count": 40,
   "metadata": {},
   "outputs": [
    {
     "name": "stdout",
     "output_type": "stream",
     "text": [
      "dict_keys(['N', 'x', 'y'])\n"
     ]
    }
   ],
   "source": [
    "data = load_problem_json(\"https://ee263.stanford.edu/julia/files/rational_interpolation_data.json\")\n",
    "N = data[\"N\"]\n",
    "x = data[\"x\"]\n",
    "y = data[\"y\"]"
   ]
  },
  {
   "cell_type": "code",
   "execution_count": 41,
   "metadata": {},
   "outputs": [],
   "source": [
    "def rational_interpolation(x, y, m):\n",
    "    A = np.zeros((x.shape[0], 1+2*m))\n",
    "    A[:,0] = 1\n",
    "    vandermonde = np.vander(x, N=m+1, increasing=True)\n",
    "    A[:,1:m+1] = vandermonde[:,1:]\n",
    "    A[:, m+1:] = -y.reshape(-1,1) * vandermonde[:,1:]\n",
    "    params, _, _, _ = np.linalg.lstsq(A, y, rcond=None)\n",
    "    numerator = vandermonde @ params[:m+1]\n",
    "    denominator = 1 + vandermonde[:,1:] @ params[m+1:]\n",
    "    fx = numerator / denominator\n",
    "    return params, fx"
   ]
  },
  {
   "cell_type": "code",
   "execution_count": 42,
   "metadata": {},
   "outputs": [
    {
     "data": {
      "text/plain": [
       "[<matplotlib.lines.Line2D at 0x7f5c7ede3d50>]"
      ]
     },
     "execution_count": 42,
     "metadata": {},
     "output_type": "execute_result"
    },
    {
     "data": {
      "image/png": "[encoded data removed]",
      "text/plain": [
       "<Figure size 432x288 with 1 Axes>"
      ]
     },
     "metadata": {
      "needs_background": "light"
     },
     "output_type": "display_data"
    }
   ],
   "source": [
    "error = []\n",
    "basis = range(2, 101)\n",
    "for m in basis:\n",
    "    params, fx = rational_interpolation(x, y, m)\n",
    "    error += [np.linalg.norm(fx - y)]\n",
    "plt.plot(basis, error)"
   ]
  },
  {
   "cell_type": "code",
   "execution_count": 43,
   "metadata": {},
   "outputs": [
    {
     "data": {
      "text/plain": [
       "[<matplotlib.lines.Line2D at 0x7f5c7f11b510>]"
      ]
     },
     "execution_count": 43,
     "metadata": {},
     "output_type": "execute_result"
    },
    {
     "data": {
      "image/png": "[encoded data removed]",
      "text/plain": [
       "<Figure size 432x288 with 1 Axes>"
      ]
     },
     "metadata": {
      "needs_background": "light"
     },
     "output_type": "display_data"
    }
   ],
   "source": [
    "params, fx = rational_interpolation(x, y, 5)\n",
    "plt.plot(x, y, \"--\")\n",
    "plt.plot(x, fx)"
   ]
  },
  {
   "cell_type": "code",
   "execution_count": 44,
   "metadata": {},
   "outputs": [
    {
     "data": {
      "image/png": "[encoded data removed]",
      "text/plain": [
       "<Figure size 432x288 with 1 Axes>"
      ]
     },
     "metadata": {
      "needs_background": "light"
     },
     "output_type": "display_data"
    }
   ],
   "source": [
    "G = np.array([\n",
    "    [1, .2, .1],\n",
    "    [.1, 2, .1],\n",
    "    [.3, .1, 3]\n",
    "])\n",
    "gamma = 5\n",
    "alpha = 1.2\n",
    "sigma = 0.01\n",
    "\n",
    "b = np.diag(G).reshape(-1, 1)\n",
    "A = G / b\n",
    "np.fill_diagonal(A, 0)\n",
    "A = A * alpha * gamma\n",
    "b = alpha * gamma * sigma * b\n",
    "\n",
    "p = np.ones((3,1)) * .1\n",
    "\n",
    "sim = [p]\n",
    "for _ in range(20):\n",
    "    p = A@p + b\n",
    "    sim += [p]\n",
    "\n",
    "sim = np.array(sim)\n",
    "plt.plot(sim[:,0], label=\"Transmitter 1\")\n",
    "plt.plot(sim[:,1], label=\"Transmitter 2\")\n",
    "plt.plot(sim[:,2], label=\"Transmitter 3\")\n",
    "plt.legend();"
   ]
  },
  {
   "cell_type": "code",
   "execution_count": 45,
   "metadata": {},
   "outputs": [
    {
     "data": {
      "text/plain": [
       "array([[16. ,  0. ],\n",
       "       [ 7.5,  1. ]])"
      ]
     },
     "execution_count": 45,
     "metadata": {},
     "output_type": "execute_result"
    }
   ],
   "source": [
    "A = np.array([\n",
    "    [2, 0],\n",
    "    [0.5, 1]\n",
    "])\n",
    "np.linalg.matrix_power(A, 4)"
   ]
  },
  {
   "cell_type": "code",
   "execution_count": 46,
   "metadata": {},
   "outputs": [],
   "source": [
    "url = \"http://web.stanford.edu/class/archive/ee/ee263/ee263.1082/matlab/color_perception.m\"\n",
    "import urllib3, json\n",
    "http = urllib3.PoolManager()\n",
    "r = http.request(\"GET\", url)\n",
    "# print(r.data.decode('utf-8'))"
   ]
  },
  {
   "cell_type": "code",
   "execution_count": 47,
   "metadata": {},
   "outputs": [
    {
     "data": {
      "image/png": "[encoded data removed]",
      "text/plain": [
       "<Figure size 432x288 with 1 Axes>"
      ]
     },
     "metadata": {
      "needs_background": "light"
     },
     "output_type": "display_data"
    }
   ],
   "source": [
    "# % This defines 20 discrete wavelengths\n",
    "wavelength = np.linspace(380, 760, 20) # (nm)\n",
    "\n",
    "# % Define the vectors of cone responsiveness\n",
    "# % Cone sensitivies for wavelengths in the visible range.  This data is \n",
    "# %  based on a graph on page 93 in Wandell's \"Foundations of Vision\" \n",
    "L_cone_log = np.array([-.9, -1.1, -1, -.8, -.7, -.6, -.5, -.4, -.3, -.25, -.3,  -.4, -.8, -1.2, -1.6, -1.9, -2.4, -2.8, -3.6, -4])\n",
    "\n",
    "M_cone_log = np.array([-.8, -.85, -.85, -.6, -.5, -.4, -.3, -.2, -.1, -.15, -.3,  -.7, -1.2, -1.7, -2.2, -2.9, -3.5, -4.2, -4.8, -5.5])\n",
    "\n",
    "S_cone_log = np.array([-.4, -.3, -.2, -.1, -.3, -.6, -1.2, -1.8, -2.5, -3.2,  -4.1, -5, -6,  -7, -8, -9, -10, -10.5, -11, -11.5])\n",
    "\n",
    "# Raise everything to the 10 power to get the actual responsitivies.  \n",
    "# These vectors contain the coefficients l_i, m_i, and s_i described in the \n",
    "# problem statement from shortest to longest wavelength. \n",
    "L_coefficients = np.power(10, L_cone_log)\n",
    "M_coefficients = np.power(10, M_cone_log)\n",
    "S_coefficients = np.power(10, S_cone_log)\n",
    "\n",
    "# % Plot the cone responsiveness. \n",
    "plt.plot(wavelength,L_cone_log,'-*', label=\"L cones\")\n",
    "plt.plot(wavelength,M_cone_log,'--x', label=\"M cones\")\n",
    "plt.plot(wavelength,S_cone_log,'-o', label=\"S cones\")\n",
    "\n",
    "plt.xlabel('Light Wavelength (nm)')\n",
    "plt.ylabel('Log Relative Sensitivity')\n",
    "plt.legend()\n",
    "plt.title('Approximate Human Cone Sensitivities');"
   ]
  },
  {
   "cell_type": "code",
   "execution_count": 48,
   "metadata": {},
   "outputs": [
    {
     "data": {
      "image/png": "[encoded data removed]",
      "text/plain": [
       "<Figure size 432x288 with 1 Axes>"
      ]
     },
     "metadata": {
      "needs_background": "light"
     },
     "output_type": "display_data"
    }
   ],
   "source": [
    "# Spectral Power Distribution of phosphors from shortest to longest wavelength\n",
    "B_phosphor = np.array([30, 35, 45, 75, 90, 100, 90, 75, 45, 35, 30, 26, 23, 21, 20, 19, 18, 17, 16, 15])\n",
    "G_phosphor = np.array([21, 23, 26, 30, 35, 45, 75, 90, 100, 90, 75, 45, 35, 30, 26, 23, 21, 20, 19, 18])\n",
    "R_phosphor = np.array([15, 16, 17, 18, 19, 21, 23, 26, 30, 35, 45, 75, 90, 100, 90, 75, 45, 35, 30, 26])\n",
    "\n",
    "# Plot the phosphors\n",
    "plt.plot(wavelength, B_phosphor,'-*', label=\"B phosphor\");\n",
    "plt.plot(wavelength, G_phosphor,'-o', label=\"G phosphor\");\n",
    "plt.plot(wavelength, R_phosphor,'--x', label=\"R phosphor\");\n",
    "\n",
    "plt.xlabel('Light wavelength (nm)');\n",
    "plt.ylabel('Spectral Power Distribution of Phosphors');\n",
    "plt.legend();"
   ]
  },
  {
   "cell_type": "code",
   "execution_count": 49,
   "metadata": {},
   "outputs": [
    {
     "data": {
      "image/png": "[encoded data removed]",
      "text/plain": [
       "<Figure size 432x288 with 1 Axes>"
      ]
     },
     "metadata": {
      "needs_background": "light"
     },
     "output_type": "display_data"
    }
   ],
   "source": [
    "# This is the spectral power distribution of the test light from the \n",
    "# shortest wavelength to the longest. \n",
    "test_light = np.array([ 58.2792, 42.3496, 51.5512, 33.3951, 43.2907, 22.5950, 57.9807, 76.0365,  52.9823, 64.0526, 20.9069,  37.9818,  78.3329,  68.0846, 46.1095, 56.7829, 79.4211, 5.9183,  60.2869,  5.0269])\n",
    "\n",
    "# Plot the test light\n",
    "plt.plot(wavelength, test_light, '-*');\n",
    "\n",
    "plt.xlabel('Light wavelength (nm)');\n",
    "plt.ylabel('Spectral Power Distribution of Test Light');\n",
    "plt.title('Test light');"
   ]
  },
  {
   "cell_type": "code",
   "execution_count": 50,
   "metadata": {},
   "outputs": [
    {
     "data": {
      "image/png": "[encoded data removed]",
      "text/plain": [
       "<Figure size 432x288 with 1 Axes>"
      ]
     },
     "metadata": {
      "needs_background": "light"
     },
     "output_type": "display_data"
    }
   ],
   "source": [
    "A = np.row_stack((L_coefficients, M_coefficients, S_coefficients))\n",
    "m = A @ test_light\n",
    "P = np.column_stack((B_phosphor, G_phosphor, R_phosphor))\n",
    "a = np.linalg.inv(A@P) @ m.reshape(-1,1)\n",
    "test_light_inv = P @ a\n",
    "\n",
    "plt.plot(wavelength, test_light, '-*', label='Test light');\n",
    "plt.plot(wavelength, test_light, '-o', label=\"Inverted light\")\n",
    "\n",
    "plt.xlabel('Light wavelength (nm)');\n",
    "plt.ylabel('Spectral Power Distribution of Test Light');\n",
    "plt.title('Test light');\n"
   ]
  },
  {
   "cell_type": "code",
   "execution_count": 51,
   "metadata": {},
   "outputs": [
    {
     "data": {
      "image/png": "[encoded data removed]",
      "text/plain": [
       "<Figure size 432x288 with 1 Axes>"
      ]
     },
     "metadata": {
      "needs_background": "light"
     },
     "output_type": "display_data"
    }
   ],
   "source": [
    "# Define approximate spectrums for sunlight and a tungsten bulb.  \n",
    "# The [powers are in order of increasing wavelength\n",
    "tungsten = np.array([ 20, 30, 40, 50, 60, 70,  80,  90, 100, 110, 120, 130, 140, 150, 160, 170, 180, 190, 200, 210])\n",
    "sunlight = np.array([40, 70, 100, 160, 240, 220,  180, 160, 180, 180, 160, 140, 140, 140, 140, 130, 120, 116, 110, 110])\n",
    "\n",
    "# Plot the specturms\n",
    "plt.plot(wavelength,tungsten,'-*', label=\"Tungsten\");\n",
    "plt.plot(wavelength,sunlight,'-o', label=\"Sunlight\");\n",
    "plt.xlabel('Light wavelength (nm)');\n",
    "plt.ylabel('Spectral Power Distributions');\n",
    "plt.legend();"
   ]
  },
  {
   "cell_type": "code",
   "execution_count": 52,
   "metadata": {},
   "outputs": [
    {
     "name": "stdout",
     "output_type": "stream",
     "text": [
      "Tungsten color difference 0.0\n",
      "Sunlight color difference 3.799942792697215\n"
     ]
    }
   ],
   "source": [
    "N = linalg.null_space(A)[:,0]*10\n",
    "N = N / tungsten\n",
    "r1 = np.random.rand(20)\n",
    "r2 = r1 - N\n",
    "t1 = tungsten * r1\n",
    "t2 = tungsten * r2\n",
    "color1 = A@t1\n",
    "color2 = A@t2\n",
    "print(\"Tungsten color difference\", linalg.norm(color1-color2))\n",
    "s1 = sunlight * r1\n",
    "s2 = sunlight * r2\n",
    "cs1 = A@s1\n",
    "cs2 = A@s2\n",
    "print(\"Sunlight color difference\", linalg.norm(cs1 - cs2))"
   ]
  },
  {
   "cell_type": "markdown",
   "metadata": {},
   "source": [
    "## Solving a set of linear equations\n",
    "\n",
    "Solving a set of $n$ linear equations with $n$ unknowns requires finding the exact combination of unkowns that simultaneously satisfies all equations. This problem can be written as\n",
    "$$\n",
    "\\begin{aligned}\n",
    "a_{11} x_1 &+ a_{12} x_2 &+ \\cdots &+ a_{1n} x_n &= b_1\\\\ \n",
    "a_{21} x_1 &+ a_{22} x_2 &+ \\cdots &+ a_{2n} x_n &= b_2\\\\ \n",
    "\\vdots & & & \\vdots\\\\\n",
    "a_{n1} x_1 &+ a_{n2} x_2 &+ \\cdots &+ a_{nn} x_n &= b_n\\\\ \n",
    "\\end{aligned}\n",
    "$$\n",
    "or more compactly as $Ax = b$. The square matrix $A \\in \\mathbf R^{n \\times n}$ and vector $b \\in \\mathbf R^n$ are given problem parameters, and $x \\in \\mathbf R^n$ is an $n$-vector of unkowns to solve for. There are two interpretations of matrix-vector multiplication: inner products of the rows of $A$\n",
    "$$\n",
    "Ax = \\begin{bmatrix}\n",
    "- \\mathbf a_1^T -\\\\\n",
    "\\vdots\\\\\n",
    "- \\mathbf a_n^T-\n",
    "\\end{bmatrix} x\n",
    "= \\begin{bmatrix}\n",
    "\\mathbf a_1^T x\\\\\n",
    "\\vdots\\\\\n",
    "\\mathbf a_n^T x\n",
    "\\end{bmatrix}\n",
    "$$\n",
    "or combinations of the columns of $A$\n",
    "$$\n",
    "Ax = \\begin{bmatrix}\n",
    "| & & |\\\\\n",
    "\\mathbf a_1 & \\cdots & \\mathbf a_n\\\\\n",
    "| & & |\n",
    "\\end{bmatrix}x = \n",
    "x_1 \\begin{bmatrix}\n",
    "|\\\\\n",
    "\\mathbf a_1\\\\\n",
    "|\n",
    "\\end{bmatrix} + \\cdots +\n",
    "x_n \\begin{bmatrix}\n",
    "|\\\\\n",
    "\\mathbf a_n\\\\\n",
    "|\n",
    "\\end{bmatrix}\n",
    "$$.\n",
    "\n",
    "Mathematically, the solution for a set of linear eqautions is $x = A^{-1} b$. This *inverse* $A^{-1}$ must satisfy $A A^{-1} = I$. Matrix multiplication with $I$ is special: it always returns the same variable which multiplies it. For example, $Ix = b$ can be written as\n",
    "$$\n",
    "\\begin{bmatrix}\n",
    "1 & 0 & \\cdots & 0\\\\\n",
    "0 & 1 & \\cdots & 0\\\\\n",
    "\\vdots & \\vdots & \\ddots & \\vdots\\\\\n",
    "0 & 0 & \\cdots & 1\n",
    "\\end{bmatrix}\n",
    "\\begin{bmatrix}\n",
    "x_1\\\\\n",
    "x_2\\\\\n",
    "\\vdots\\\\\n",
    "x_n\n",
    "\\end{bmatrix}\n",
    "= \\begin{bmatrix}\n",
    "b_1\\\\\n",
    "b_2\\\\\n",
    "\\vdots\\\\\n",
    "b_n\n",
    "\\end{bmatrix}\n",
    "$$.\n",
    "The row interpretation says each row picks off $x_i = b_i$. The column interpretation says the only combination of columns that equals $b_i$ is $x_i$. \n",
    "\n",
    "Any diagonal matrix $D$ can be solved for similarly. For each diagonal element $d_1, \\ldots, d_n$ solving for each unknown $x_i$ just takes the reciprocal\n",
    "$$\n",
    "\\begin{aligned}\n",
    "x_1 &= b_1 / d_1\\\\\n",
    "x_2 &= b_2 / d_2\\\\\n",
    "\\vdots\\\\\n",
    "x_n &= b_n / d_n\n",
    "\\end{aligned}\n",
    "$$.\n",
    "The inverse $D^{-1}$ is just the reciprocal of all the diagonal elements."
   ]
  },
  {
   "cell_type": "markdown",
   "metadata": {},
   "source": [
    "## Solving a dense matrix\n",
    "When $A$ is *dense* and has many non-zero elements, the inverse is not as easy to solve for.\n",
    "\n",
    "Solving $Ax=b$ by factor solve $A=LU$ requires on the order of $O(n^3)$ flops. Solving 1000 linear equations with 1000 variables can be done in about 1 second! The function `scipy.linalg.solve` can solve for several types of $A$: dense, symmetric, and positive definite. Calling the dense solve invokes LAPACK DGESV routine, which solves $A=PLU$, where $P$ is built up during the algorithm using a hueristic. The reason solvers work so well is because building the permutations works so well, hueristically.\n",
    "\n",
    "If $A$ is symmetric, positive-definite, then it can be solved via Cholesky factorization $A=LL^T$. This requires no permutations and is stable. Solving again requires on the order of $O(n^3)$ flops. If $A$ is just symmetric (non-singular) is can be factored as $A=LDL^T$."
   ]
  },
  {
   "cell_type": "code",
   "execution_count": 53,
   "metadata": {},
   "outputs": [],
   "source": [
    "# import time\n",
    "\n",
    "# times = []\n",
    "# Ns = np.arange(1, 12) * 1000\n",
    "# for N in Ns:\n",
    "#     A = np.random.randn(N, N)\n",
    "#     b = np.random.randn(N)\n",
    "#     start = time.time()\n",
    "#     linalg.solve(A, b)\n",
    "#     end = time.time()\n",
    "#     times += [end - start]"
   ]
  },
  {
   "cell_type": "code",
   "execution_count": 54,
   "metadata": {},
   "outputs": [],
   "source": [
    "# z = np.polyfit(Ns[:len(times)], times, 3)\n",
    "# p = np.poly1d(z)\n",
    "# plt.plot(Ns[:len(times)], times, '-x')\n",
    "# plt.plot(Ns, p(Ns), '--')\n",
    "# # plt.yscale(\"log\")"
   ]
  },
  {
   "cell_type": "code",
   "execution_count": 55,
   "metadata": {},
   "outputs": [
    {
     "name": "stdout",
     "output_type": "stream",
     "text": [
      "78.33333333333329\n"
     ]
    },
    {
     "data": {
      "text/plain": [
       "array([[57.37037037],\n",
       "       [70.        ]])"
      ]
     },
     "execution_count": 55,
     "metadata": {},
     "output_type": "execute_result"
    }
   ],
   "source": [
    "T = np.array([\n",
    "    [27, 45, 41, 35],\n",
    "    [29, 37, 49, 55]\n",
    "])\n",
    "P = np.array([\n",
    "    [1, 1, 1, 1],\n",
    "    [10, 100, 10, 10],\n",
    "    [10, 10, 100, 10],\n",
    "    [10, 10, 10, 100]\n",
    "])\n",
    "\n",
    "Ab = T @ linalg.inv(P)  # right inverse\n",
    "b = Ab[:,0]\n",
    "A = Ab[:,1:]\n",
    "Tm = np.array([70, 70])\n",
    "diff = Tm - b\n",
    "popt = np.min(diff / A.sum(axis=1))\n",
    "print(popt)\n",
    "A @ (popt * np.ones((3, 1))) + b.reshape(-1, 1)"
   ]
  },
  {
   "cell_type": "code",
   "execution_count": 56,
   "metadata": {},
   "outputs": [
    {
     "name": "stdout",
     "output_type": "stream",
     "text": [
      "0.09090909090909091 0.11111111111111112\n"
     ]
    }
   ],
   "source": [
    "a = .1\n",
    "print(a/(1+a), a / (1-a))"
   ]
  },
  {
   "cell_type": "code",
   "execution_count": 57,
   "metadata": {},
   "outputs": [],
   "source": [
    "A = np.array([\n",
    "  [ 1.164953510500657,  -0.360029625711573,   0.375041023696104,  -0.557093642241282,  -0.507700386669636,   0.924159404893175,   0.039884852845797,  -0.620214209475792,   0.438705097860831,   0.670291996969230],\n",
    "  [ 0.626839082632431,  -0.135576294466487,   1.125161817875028,  -0.336705699002853,   0.885299448191509,  -1.814114702851241,  -2.482842514256541,   0.237148765008739,  -1.247344316401997,   0.420146041651794],\n",
    "  [ 0.075080154677683,  -1.349338480385175,   0.728641591773905,   0.415227462723156,  -0.248093553237236,   0.034973320285167,   1.158654705247901,  -1.586846990031033,   0.324666916936102,  -2.872751269668520],\n",
    "  [ 0.351606902768522,  -1.270449896283403,  -2.377454293765433,   1.557813537123208,  -0.726248999742084,  -1.807862060321251,  -1.026279466693260,  -0.401484809800359,   0.390070410090458,   1.685874080406989],\n",
    "  [-0.696512535163682,   0.984570272925253,  -0.273782415743900,  -2.444298897865560,  -0.445040300996161,   1.028192546045777,   1.153486988237923,  -0.770692268923938,  -0.405138316773605,   0.027924553523994],\n",
    "  [ 1.696142480747077,  -0.044880613828856,  -0.322939921204497,  -1.098195387799324,  -0.612911120338436,   0.394600308811932,  -0.786456613020222,  -0.262680506066512,   0.292314877283450,  -0.902030581228208],\n",
    "  [ 0.059059777981351,  -0.798944516671106,   0.317987915650739,   1.122647857944875,  -0.209144084593638,   0.639405642088516,   0.634808587961936,   0.976489543659970,   2.565910242123806,  -2.053257491526201],\n",
    "  [ 1.797071783694818,  -0.765172428787515,  -0.511172207780700,   0.581667258045274,   0.562147834450359,   0.874212894863609,   0.820409761532064,   0.977815041129280,  -0.457815643580367,   0.089086297675464],\n",
    "  [ 0.264068528817227,   0.861734897324192,  -0.002041345349433,  -0.271354295524753,  -1.063922887881042,   1.752401730329559,  -0.176026510455600,   1.170021110265055,  -1.610827014289158,   2.087099131649750],\n",
    "  [ 0.871673288690637,  -0.056225124358975,   1.606510961119237,   0.414191307229504,   0.351588948379816,  -0.320050826432138,   0.562473874646301,   0.159310862415417,  -2.669523782410902,   0.365118460310679],\n",
    "  [-1.446171539339335,   0.513478173674302,   0.847648634500925,  -0.977814227461400,   1.132999926008681,  -0.137413808144866,  -0.127442875395491,   0.499520851464531,  -0.759696648513815,   0.846105526166482],\n",
    "  [-0.701165345682908,   0.396680865935824,   0.268100811901575,  -1.021466173866152,   0.149994248007729,   0.615769628086716,   0.554171560978313,  -1.055375070659330,  -0.674720856431937,  -0.184537657075523],\n",
    "  [ 1.245982120437819,   0.756218970285488,  -0.923489085784077,   0.317687979852042,   0.703144053247466,   0.977894069845197,  -1.097344319221644,  -0.450743202815186,  -1.171687194533551,   1.030714423869546],\n",
    "  [-0.638976995013557,   0.400486023191097,  -0.070499387778694,   1.516107798150034,  -0.052411584998689,  -1.115347712205141,  -0.731301400074801,   1.270378242169987,   2.032930016155204,  -1.527622652429381],\n",
    "  [ 0.577350218771609,  -1.341380722378574,   0.147891351014747,   0.749432452588256,   2.018496124007770,  -0.550021448804486,   1.404731919616814,   0.898693600923036,   0.968481047964462,   0.964938959209115],\n",
    "])\n",
    "ytilde = np.array([\n",
    "   0.293700010391366,\n",
    "  -0.548030198505630,\n",
    "   0.003532110461013,\n",
    "   1.375859546156174,\n",
    "  -6.752682998496523,\n",
    "   1.190484875889765,\n",
    "   8.782196150345506,\n",
    "   1.911972855063559,\n",
    "  -1.462868211077097,\n",
    "  -4.433624854460799,\n",
    "  -1.723404706120404,\n",
    "  -4.547493026790328,\n",
    "  -0.109245813786955,\n",
    "   8.033526684801210,\n",
    "   1.782619515709060]).reshape(-1,1 )"
   ]
  },
  {
   "cell_type": "code",
   "execution_count": 58,
   "metadata": {},
   "outputs": [
    {
     "name": "stdout",
     "output_type": "stream",
     "text": [
      "11 sensor is faulty\n"
     ]
    }
   ],
   "source": [
    "for k in range(A.shape[0]):\n",
    "    F = np.delete(A, k, axis=0)\n",
    "    g = np.delete(ytilde, k, axis=0)\n",
    "    Ay = np.column_stack((F, g))\n",
    "    if np.linalg.matrix_rank(Ay) == np.linalg.matrix_rank(F):\n",
    "        print(k+1, \"sensor is faulty\")"
   ]
  },
  {
   "cell_type": "code",
   "execution_count": 59,
   "metadata": {},
   "outputs": [],
   "source": [
    "N = 40;\n",
    "\n",
    "x = np.array([\n",
    "    0.0197,\n",
    "    0.0305,\n",
    "    0.0370,\n",
    "    0.1158,\n",
    "    0.2778,\n",
    "    0.3525,\n",
    "    0.3974,\n",
    "    0.3976,\n",
    "    0.4053,\n",
    "    0.4055,\n",
    "    0.4623,\n",
    "    0.5444,\n",
    "    0.7057,\n",
    "    0.8114,\n",
    "    0.8205,\n",
    "    0.8373,\n",
    "    0.8894,\n",
    "    0.8902,\n",
    "    0.9129,\n",
    "    0.9320,\n",
    "    0.9720,\n",
    "    1.0503,\n",
    "    1.2076,\n",
    "    1.2137,\n",
    "    1.2309,\n",
    "    1.3443,\n",
    "    1.4764,\n",
    "    1.4936,\n",
    "    1.5242,\n",
    "    1.5839,\n",
    "    1.6263,\n",
    "    1.6428,\n",
    "    1.6924,\n",
    "    1.7826,\n",
    "    1.7873,\n",
    "    1.8338,\n",
    "    1.8436,\n",
    "    1.8636,\n",
    "    1.8709,\n",
    "    1.9003])\n",
    "\n",
    "y = np.array([\n",
    "   -0.0339,\n",
    "   -0.1022,\n",
    "   -0.0165,\n",
    "   -0.0532,\n",
    "   -0.2022,\n",
    "   -0.1149,\n",
    "   -0.1310,\n",
    "   -0.1924,\n",
    "   -0.1768,\n",
    "   -0.1845,\n",
    "   -0.2210,\n",
    "   -0.1994,\n",
    "   -0.3058,\n",
    "   -0.1916,\n",
    "   -0.3097,\n",
    "   -0.3011,\n",
    "   -0.2657,\n",
    "   -0.3162,\n",
    "   -0.3295,\n",
    "   -0.3710,\n",
    "   -0.3247,\n",
    "   -0.4274,\n",
    "   -0.3756,\n",
    "   -0.3323,\n",
    "   -0.4545,\n",
    "   -0.4242,\n",
    "   -0.4710,\n",
    "   -0.6230,\n",
    "   -0.6332,\n",
    "   -0.5694,\n",
    "   -0.6458,\n",
    "   -0.6025,\n",
    "   -0.6313,\n",
    "   -0.7051,\n",
    "   -0.6799,\n",
    "   -0.7489,\n",
    "   -0.7310,\n",
    "   -0.8675,\n",
    "   -0.8146,\n",
    "   -0.8469])"
   ]
  },
  {
   "cell_type": "code",
   "execution_count": 60,
   "metadata": {},
   "outputs": [
    {
     "data": {
      "image/png": "[encoded data removed]",
      "text/plain": [
       "<Figure size 432x288 with 1 Axes>"
      ]
     },
     "metadata": {
      "needs_background": "light"
     },
     "output_type": "display_data"
    }
   ],
   "source": [
    "N = x.shape[0]\n",
    "A1 = np.ones((N,2))\n",
    "A1[:,1] = x\n",
    "xls, _, _, _ = linalg.lstsq(A1, y)\n",
    "yls = A1@xls\n",
    "A3 = np.ones((N, 4))\n",
    "A3[:, 1] = x\n",
    "A3[:, 2] = x**2\n",
    "A3[:, 3] = x**3\n",
    "cubicls, _, _, _ = linalg.lstsq(A3, y)\n",
    "ycls = A3@cubicls\n",
    "plt.plot(x, y, 'o-', label=\"data\")\n",
    "plt.plot(x, yls, label=\"Linear fit\")\n",
    "plt.plot(x, ycls, label=\"Cubic fit\")\n",
    "plt.legend();"
   ]
  },
  {
   "cell_type": "code",
   "execution_count": 61,
   "metadata": {},
   "outputs": [
    {
     "data": {
      "image/png": "[encoded data removed]",
      "text/plain": [
       "<Figure size 432x288 with 1 Axes>"
      ]
     },
     "metadata": {
      "needs_background": "light"
     },
     "output_type": "display_data"
    }
   ],
   "source": [
    "import seaborn as sns\n",
    "\n",
    "rng = np.random.default_rng()\n",
    "relerr = []\n",
    "truncerr = []\n",
    "for _ in range(50):\n",
    "    A = rng.normal(size=(50, 20))\n",
    "    v = rng.normal(size=(50, 1))\n",
    "    x = rng.normal(size=(20, 1))\n",
    "    y = A@x + v\n",
    "\n",
    "    xls, _, _, _ = linalg.lstsq(A, y)\n",
    "    relerr += [linalg.norm(xls - x) / linalg.norm(x)]\n",
    "\n",
    "    ytrunc = y[:20]\n",
    "    Atrunc = A[:20]\n",
    "    xtrunc = linalg.solve(Atrunc, ytrunc)\n",
    "    truncerr += [linalg.norm(xtrunc - x) / linalg.norm(x)]\n",
    "\n",
    "sns.kdeplot(truncerr);\n",
    "sns.kdeplot(relerr);\n"
   ]
  },
  {
   "cell_type": "code",
   "execution_count": 62,
   "metadata": {
    "tags": []
   },
   "outputs": [
    {
     "name": "stdout",
     "output_type": "stream",
     "text": [
      "Solution satisfied: True\n",
      "Least Norm: 0.2492412729088267\n"
     ]
    },
    {
     "data": {
      "image/png": "[encoded data removed]",
      "text/plain": [
       "<Figure size 432x288 with 3 Axes>"
      ]
     },
     "metadata": {
      "needs_background": "light"
     },
     "output_type": "display_data"
    }
   ],
   "source": [
    "# Optimal Control of a Unit Mass\n",
    "position = lambda n: n - np.arange(1, n+1) + .5\n",
    "\n",
    "c1 = position(10)\n",
    "c2 = np.ones(10)\n",
    "c3 = np.pad(position(5), (0, 5))\n",
    "A = np.row_stack([c1, c2, c3])\n",
    "b = np.array([1, 0, 0]).T\n",
    "\n",
    "xln = linalg.pinv(A) @ b\n",
    "\n",
    "print(\"Solution satisfied:\", np.allclose(A@xln, b))\n",
    "print(\"Least Norm:\", linalg.norm(xln))\n",
    "\n",
    "T1 = linalg.toeplitz(np.ones((10, 1)), np.r_[1, np.zeros(9)])\n",
    "pdot = T1 @ xln\n",
    "T2 = linalg.toeplitz(np.flip(position(10)), np.r_[.5, np.zeros(9)])\n",
    "p = T2 @ xln\n",
    "\n",
    "_, axs = plt.subplots(3, 1, tight_layout=True)\n",
    "axs[0].stairs(xln)\n",
    "axs[0].set_ylabel(\"Force\")\n",
    "axs[1].plot(pdot)\n",
    "axs[1].set_ylabel(\"Velocity\")\n",
    "axs[2].plot(p)\n",
    "axs[2].set_ylabel(\"Position\");"
   ]
  },
  {
   "cell_type": "code",
   "execution_count": 63,
   "metadata": {},
   "outputs": [],
   "source": [
    "import cvxpy as cvx"
   ]
  },
  {
   "cell_type": "code",
   "execution_count": 64,
   "metadata": {},
   "outputs": [
    {
     "data": {
      "text/plain": [
       "[<matplotlib.lines.Line2D at 0x7f5c6f4e2990>]"
      ]
     },
     "execution_count": 64,
     "metadata": {},
     "output_type": "execute_result"
    },
    {
     "data": {
      "image/png": "[encoded data removed]",
      "text/plain": [
       "<Figure size 432x288 with 1 Axes>"
      ]
     },
     "metadata": {
      "needs_background": "light"
     },
     "output_type": "display_data"
    }
   ],
   "source": [
    "n = 10\n",
    "x = cvx.Variable(n)\n",
    "mu = cvx.Parameter(nonneg=True)\n",
    "A = np.row_stack([c1, c2])\n",
    "y = np.array([-10, -1])\n",
    "J1 = cvx.sum_squares(A@x - y)\n",
    "J2 = mu * cvx.norm(x, p=2)\n",
    "prob = cvx.Problem(cvx.Minimize(J1 + J2))\n",
    "\n",
    "vals = []\n",
    "for i in np.logspace(-2, 3):\n",
    "    mu.value = i\n",
    "    prob.solve()\n",
    "    vals += [[cvx.sum_squares(A@x - y).value, cvx.sum_squares(x).value]]\n",
    "\n",
    "vals = np.array(vals)\n",
    "plt.plot(vals[:,0], vals[:,1])"
   ]
  },
  {
   "cell_type": "code",
   "execution_count": 65,
   "metadata": {},
   "outputs": [
    {
     "data": {
      "image/png": "[encoded data removed]",
      "text/plain": [
       "<Figure size 432x288 with 1 Axes>"
      ]
     },
     "metadata": {
      "needs_background": "light"
     },
     "output_type": "display_data"
    }
   ],
   "source": [
    "vals = []\n",
    "for mu in np.logspace(-2, 2):\n",
    "    xln = linalg.inv(A.T @ A + mu * np.eye(10)) @ A.T @ y\n",
    "    vals += [[linalg.norm(A@xln - y)**2, linalg.norm(xln)**2]]\n",
    "\n",
    "vals = np.array(vals)\n",
    "plt.plot(vals[:,0], vals[:,1])\n",
    "plt.xlabel(r\"$J_1 = \\| A x_{ln} - y\\|^2$\")\n",
    "plt.ylabel(r\"$J_2 = \\|x_{ln}\\|^2$\");"
   ]
  },
  {
   "cell_type": "code",
   "execution_count": 66,
   "metadata": {},
   "outputs": [],
   "source": [
    "# System Identification\n",
    "# data for EE263 problem on system identification\n",
    "n=3;\n",
    "m=10;\n",
    "N=100;\n",
    "X=np.array([ 5.8248,\n",
    "    3.1342,\n",
    "    0.3754,\n",
    "    1.7580,\n",
    "   -3.4826,\n",
    "    8.4807,\n",
    "    0.2953,\n",
    "    8.9854,\n",
    "    1.3203,\n",
    "    4.3584,\n",
    "   -7.2309,\n",
    "   -3.5058,\n",
    "    6.2299,\n",
    "   -3.1949,\n",
    "    2.8868,\n",
    "   -1.8001,\n",
    "   -0.6779,\n",
    "   -6.7467,\n",
    "   -6.3522,\n",
    "    4.9229,\n",
    "   -0.2244,\n",
    "   -3.9947,\n",
    "   -3.8259,\n",
    "    4.3087,\n",
    "   -0.2811,\n",
    "    2.5674,\n",
    "    1.9834,\n",
    "    3.7811,\n",
    "    2.0024,\n",
    "   -6.7069,\n",
    "    1.8752,\n",
    "    5.6258,\n",
    "    3.6432,\n",
    "  -11.8873,\n",
    "   -1.3689,\n",
    "   -1.6147,\n",
    "    1.5899,\n",
    "   -2.5559,\n",
    "   -0.0102,\n",
    "    8.0326,\n",
    "    4.2382,\n",
    "    1.3405,\n",
    "   -4.6174,\n",
    "   -0.3525,\n",
    "    0.7395,\n",
    "   -2.7855,\n",
    "   -1.6835,\n",
    "    2.0761,\n",
    "    7.7891,\n",
    "  -12.2215,\n",
    "   -5.4910,\n",
    "    5.6132,\n",
    "    2.9083,\n",
    "   -1.3568,\n",
    "    2.0710,\n",
    "   -4.8891,\n",
    "   -5.1073,\n",
    "    1.5884,\n",
    "    7.5805,\n",
    "    3.7472,\n",
    "   -2.5385,\n",
    "    4.4265,\n",
    "   -1.2405,\n",
    "   -3.6312,\n",
    "   -2.2252,\n",
    "   -3.0646,\n",
    "   -1.0457,\n",
    "    2.8107,\n",
    "   -5.3196,\n",
    "    1.7579,\n",
    "    5.6650,\n",
    "    0.7500,\n",
    "    3.5157,\n",
    "   -0.2621,\n",
    "   10.0925,\n",
    "    4.6208,\n",
    "   -9.0706,\n",
    "    0.1749,\n",
    "   -9.0393,\n",
    "    5.1410,\n",
    "    1.9730,\n",
    "    3.1970,\n",
    "    4.3711,\n",
    "    8.7620,\n",
    "   -1.6003,\n",
    "   -0.6871,\n",
    "    3.0788,\n",
    "    4.8895,\n",
    "   -5.5767,\n",
    "   -2.7501,\n",
    "    0.1994,\n",
    "  -12.4142,\n",
    "    5.7933,\n",
    "   -5.1314,\n",
    "    5.7674,\n",
    "   -3.9323,\n",
    "    3.1740,\n",
    "    4.1020,\n",
    "   -0.8801,\n",
    "    2.8124,\n",
    "   -0.6372,\n",
    "    2.7709,\n",
    "   -5.4867,\n",
    "   -3.6565,\n",
    "    7.0237,\n",
    "   -3.1011,\n",
    "    1.1857,\n",
    "   -7.9342,\n",
    "   -2.0074,\n",
    "   -3.8535,\n",
    "   -1.3134,\n",
    "    4.8824,\n",
    "    4.8891,\n",
    "    5.8501,\n",
    "    0.7966,\n",
    "    2.4976,\n",
    "   -5.2769,\n",
    "   -2.2537,\n",
    "    6.3519,\n",
    "    4.4935,\n",
    "    2.1935,\n",
    "   -6.2367,\n",
    "    1.6233,\n",
    "    1.9504,\n",
    "   -2.0257,\n",
    "    1.4616,\n",
    "   12.8296,\n",
    "   -2.2891,\n",
    "   -8.0541,\n",
    "  -13.3476,\n",
    "   -3.7985,\n",
    "   -3.3736,\n",
    "   -5.8584,\n",
    "   10.1647,\n",
    "    4.8424,\n",
    "    3.3515,\n",
    "    2.1007,\n",
    "  -14.3638,\n",
    "    8.4294,\n",
    "    0.1396,\n",
    "   -4.5102,\n",
    "  -10.2663,\n",
    "    0.4454,\n",
    "   10.4355,\n",
    "    1.8256,\n",
    "    4.2305,\n",
    "   -0.9227,\n",
    "    5.1536,\n",
    "   -7.6381,\n",
    "    4.8247,\n",
    "    2.6308,\n",
    "   -0.9223,\n",
    "    0.9939,\n",
    "    7.9521,\n",
    "    0.1610,\n",
    "    4.4458,\n",
    "   -6.4958,\n",
    "    5.9129,\n",
    "    9.0874,\n",
    "   -2.9215,\n",
    "   -5.0534,\n",
    "   -4.8025,\n",
    "    3.4558,\n",
    "   -3.7931,\n",
    "   -0.4849,\n",
    "   -7.0347,\n",
    "    5.1541,\n",
    "   -3.7994,\n",
    "    4.3706,\n",
    "    3.8056,\n",
    "   -0.8296,\n",
    "    1.5045,\n",
    "   -1.6123,\n",
    "   -1.8421,\n",
    "    5.7395,\n",
    "    0.2072,\n",
    "   -5.4902,\n",
    "    7.8336,\n",
    "   -5.2421,\n",
    "    2.1136,\n",
    "   -4.2221,\n",
    "   -1.5581,\n",
    "    1.9891,\n",
    "    5.2489,\n",
    "   -1.7040,\n",
    "    1.6815,\n",
    "   -1.1068,\n",
    "    0.0832,\n",
    "   -5.9618,\n",
    "   -0.6582,\n",
    "    7.4376,\n",
    "   -4.1841,\n",
    "   -6.5049,\n",
    "    7.8707,\n",
    "    5.8302,\n",
    "    3.9321,\n",
    "   -7.3082,\n",
    "    7.7723,\n",
    "   -2.9877,\n",
    "   -6.0528,\n",
    "   -3.5133,\n",
    "    1.7821,\n",
    "    3.2632,\n",
    "    1.0784,\n",
    "   -1.3195,\n",
    "    9.0122,\n",
    "   -3.2149,\n",
    "    0.5478,\n",
    "   -3.5952,\n",
    "    2.1031,\n",
    "   -9.6557,\n",
    "    3.3015,\n",
    "   -5.5125,\n",
    "   -0.5149,\n",
    "   -5.2990,\n",
    "   -6.1928,\n",
    "   -9.4462,\n",
    "   -4.8679,\n",
    "    1.0606,\n",
    "    2.4672,\n",
    "    7.7359,\n",
    "    3.2247,\n",
    "  -10.7418,\n",
    "   -5.1442,\n",
    "   -0.7079,\n",
    "  -12.6335,\n",
    "   -1.5649,\n",
    "   -2.9681,\n",
    "    1.6616,\n",
    "    2.7943,\n",
    "    4.4994,\n",
    "   -1.0045,\n",
    "   -1.1687,\n",
    "    7.2495,\n",
    "    9.1807,\n",
    "   -1.9146,\n",
    "    0.7754,\n",
    "   -4.8232,\n",
    "    0.1938,\n",
    "    3.8273,\n",
    "   -2.9726,\n",
    "    0.6512,\n",
    "    0.1751,\n",
    "   -3.1234,\n",
    "   -2.6989,\n",
    "    9.3998,\n",
    "   -5.0192,\n",
    "   -2.4872,\n",
    "   -7.5220,\n",
    "   -0.4772,\n",
    "    1.9836,\n",
    "   -2.6356,\n",
    "    1.7229,\n",
    "   -3.6165,\n",
    "    6.3410,\n",
    "   -0.1562,\n",
    "    3.8911,\n",
    "   10.9024,\n",
    "    2.1891,\n",
    "    6.6666,\n",
    "    1.2554,\n",
    "   -1.5524,\n",
    "   -4.6150,\n",
    "   -1.9239,\n",
    "    5.7909,\n",
    "    4.3125,\n",
    "   -5.1735,\n",
    "   -0.9634,\n",
    "   -6.4986,\n",
    "    1.5330,\n",
    "    4.8450,\n",
    "   -3.7366,\n",
    "  -13.9801,\n",
    "    3.4837,\n",
    "   16.0345,\n",
    "    2.6800,\n",
    "    1.4923,\n",
    "    1.4202,\n",
    "    4.7983,\n",
    "   10.4380,\n",
    "    7.6234,\n",
    "   -0.9763,\n",
    "    0.0863,\n",
    "    1.2317,\n",
    "   -4.2724,\n",
    "    5.7889,\n",
    "    0.8095,\n",
    "    7.7853,\n",
    "   -0.9677,\n",
    "    8.2565,\n",
    "   -9.4939,\n",
    "    9.1126,\n",
    "   -7.5921,\n",
    "   -5.2554,\n",
    "    0.2497,\n",
    "   -7.2737,\n",
    "    2.3327,\n",
    "    2.7272,\n",
    "    6.6016,\n",
    "   -2.0225])\n",
    "X=X.reshape((n,N));\n",
    "\n",
    "Y=np.array([30.0345,\n",
    "   22.8095,\n",
    "   44.8094,\n",
    "   56.0756,\n",
    "   56.2002,\n",
    "   42.7479,\n",
    "   53.3022,\n",
    "   64.7067,\n",
    "   26.2156,\n",
    "   35.9164,\n",
    "   28.1879,\n",
    "  -10.4892,\n",
    "   71.2742,\n",
    "   32.0160,\n",
    "   72.5273,\n",
    "   67.0702,\n",
    "   51.7024,\n",
    "   15.4489,\n",
    "  -29.2450,\n",
    "   33.8679,\n",
    "   49.6661,\n",
    "   64.3571,\n",
    "   10.5165,\n",
    "   46.0675,\n",
    "   23.6143,\n",
    "   50.3220,\n",
    "   75.9194,\n",
    "   61.8370,\n",
    "   79.3337,\n",
    "   82.1494,\n",
    "  -45.7625,\n",
    "  -52.3933,\n",
    "    5.6125,\n",
    "   -8.6894,\n",
    "    7.7985,\n",
    "  -40.4989,\n",
    "  -56.9415,\n",
    "  -22.0384,\n",
    "  -64.3470,\n",
    "  -78.4266,\n",
    "    8.1397,\n",
    "  -19.0188,\n",
    "   64.3590,\n",
    "   41.6441,\n",
    "   75.8355,\n",
    "   36.5258,\n",
    "   30.0059,\n",
    "   39.3254,\n",
    "  -27.9618,\n",
    "   -0.1393,\n",
    "  -41.2597,\n",
    "  -13.6561,\n",
    "  -55.7996,\n",
    "  -38.4113,\n",
    "  -67.1491,\n",
    "  -66.7537,\n",
    "  -69.5111,\n",
    "  -39.3169,\n",
    "   -4.9904,\n",
    "  -55.0985,\n",
    "   13.4654,\n",
    "   36.6802,\n",
    "  -49.2285,\n",
    "  -27.8074,\n",
    "  -55.3381,\n",
    "   -6.8952,\n",
    "    0.0367,\n",
    "  -20.5416,\n",
    "   44.7614,\n",
    "   29.4258,\n",
    "   -5.2957,\n",
    "  -23.9685,\n",
    "    0.9397,\n",
    "  -23.2421,\n",
    "  -12.9130,\n",
    "    3.4658,\n",
    "  -11.3018,\n",
    "  -45.0969,\n",
    "  -34.7140,\n",
    "   -3.9510,\n",
    "   21.6568,\n",
    "   18.8146,\n",
    "   11.5414,\n",
    "   18.6524,\n",
    "   12.6434,\n",
    "   28.2068,\n",
    "   31.1844,\n",
    "   20.2500,\n",
    "   21.6577,\n",
    "   36.5262,\n",
    "  -15.5867,\n",
    "   10.5000,\n",
    "  -19.8380,\n",
    "    9.3835,\n",
    "   -8.3324,\n",
    "  -36.3594,\n",
    "  -21.5052,\n",
    "   21.9175,\n",
    "   16.0932,\n",
    "  -31.2623,\n",
    "   50.3955,\n",
    "   44.1079,\n",
    "   39.1377,\n",
    "   49.5880,\n",
    "   47.1709,\n",
    "   65.0665,\n",
    "   78.6850,\n",
    "   62.8964,\n",
    "   52.2841,\n",
    "   75.3249,\n",
    "  -41.4504,\n",
    "  -11.7174,\n",
    "  -92.5243,\n",
    "  -91.4773,\n",
    " -123.0891,\n",
    "  -67.3832,\n",
    "  -78.0250,\n",
    " -107.8328,\n",
    "  -13.5776,\n",
    "  -37.0191,\n",
    "   -9.7837,\n",
    "  -17.1545,\n",
    "   11.4928,\n",
    "    0.5064,\n",
    "   11.7335,\n",
    "   -2.6714,\n",
    "   -8.1768,\n",
    "   -5.7565,\n",
    "  -21.6756,\n",
    "  -20.1474,\n",
    "   45.0893,\n",
    "   29.7866,\n",
    "   68.0736,\n",
    "   80.5315,\n",
    "   84.3078,\n",
    "   59.9653,\n",
    "   83.9376,\n",
    "   95.6181,\n",
    "   34.2841,\n",
    "   52.3477,\n",
    "   -6.5127,\n",
    "   -3.5389,\n",
    "  -29.6949,\n",
    "  -30.0812,\n",
    "  -39.1238,\n",
    "  -11.8903,\n",
    "  -19.7746,\n",
    "  -40.3075,\n",
    "   -1.5598,\n",
    "   -4.0908,\n",
    "   -4.6359,\n",
    "   -5.9160,\n",
    "   -5.4718,\n",
    "  -18.2769,\n",
    "  -10.2622,\n",
    "    3.3884,\n",
    "  -10.1641,\n",
    "  -27.5424,\n",
    "  -16.8714,\n",
    "   -0.6627,\n",
    "  -73.4399,\n",
    "  -90.2879,\n",
    "   18.5297,\n",
    "  -14.1298,\n",
    "   17.7372,\n",
    "  -68.9569,\n",
    "  -89.1356,\n",
    "  -26.5242,\n",
    " -108.3701,\n",
    " -127.7640,\n",
    "   15.8105,\n",
    "   17.1600,\n",
    "   28.5667,\n",
    "   44.8296,\n",
    "   44.0908,\n",
    "   21.7802,\n",
    "   36.3409,\n",
    "   58.7663,\n",
    "   26.4251,\n",
    "   18.9353,\n",
    "  -46.6222,\n",
    "  -42.0949,\n",
    "  -19.1020,\n",
    "  -22.9500,\n",
    "  -21.0272,\n",
    "  -59.1512,\n",
    "  -63.8237,\n",
    "  -30.5963,\n",
    "  -43.4888,\n",
    "  -71.9505,\n",
    "   61.9001,\n",
    "   59.2292,\n",
    "   38.9111,\n",
    "   54.0701,\n",
    "   50.1095,\n",
    "   68.3506,\n",
    "   88.8696,\n",
    "   75.2077,\n",
    "   67.6894,\n",
    "   87.4858,\n",
    "   11.6920,\n",
    "   28.2595,\n",
    "  -25.3070,\n",
    "   -5.3128,\n",
    "  -27.4170,\n",
    "   -4.8357,\n",
    "    8.5700,\n",
    "    0.3038,\n",
    "   41.7528,\n",
    "   23.0344,\n",
    "  -34.7236,\n",
    "  -20.6072,\n",
    "  -47.7450,\n",
    "  -43.2963,\n",
    "  -55.2976,\n",
    "  -55.2515,\n",
    "  -59.9498,\n",
    "  -52.4430,\n",
    "  -22.0860,\n",
    "  -43.5828,\n",
    "  -15.9823,\n",
    "   16.3353,\n",
    "  -45.7119,\n",
    "  -19.9126,\n",
    "  -43.2753,\n",
    "  -43.5170,\n",
    "  -27.9246,\n",
    "   -4.6798,\n",
    "   25.6032,\n",
    "  -14.1943,\n",
    "   35.9961,\n",
    "   39.5620,\n",
    "   19.9932,\n",
    "   34.4625,\n",
    "   32.6274,\n",
    "   36.8137,\n",
    "   55.7788,\n",
    "   49.4435,\n",
    "   48.6918,\n",
    "   48.5811,\n",
    "   58.9997,\n",
    "    5.3052,\n",
    "   93.6387,\n",
    "   63.5379,\n",
    "   99.7714,\n",
    "  104.2068,\n",
    "   96.5440,\n",
    "   55.4087,\n",
    "   -1.4447,\n",
    "   69.9121,\n",
    "  -36.6042,\n",
    "  -61.6926,\n",
    "   33.8437,\n",
    "   -2.4297,\n",
    "   36.3181,\n",
    "  -15.3246,\n",
    "  -39.2304,\n",
    "  -16.3327,\n",
    "  -80.3490,\n",
    "  -70.2717,\n",
    "   17.0885,\n",
    "   35.4870,\n",
    "  -48.3118,\n",
    "  -32.9522,\n",
    "  -60.1390,\n",
    "    0.3509,\n",
    "    5.5434,\n",
    "  -33.1867,\n",
    "   46.6697,\n",
    "   45.1707,\n",
    "   71.7012,\n",
    "   39.6973,\n",
    "   85.3064,\n",
    "   73.9825,\n",
    "   92.8495,\n",
    "  109.2652,\n",
    "  117.0470,\n",
    "   77.9766,\n",
    "   40.6882,\n",
    "  104.6147,\n",
    "   11.1127,\n",
    "   -4.3277,\n",
    "    9.5299,\n",
    "   -5.3292,\n",
    "    4.6645,\n",
    "   20.9069,\n",
    "   15.0439,\n",
    "   -3.0515,\n",
    "   -7.8130,\n",
    "   16.1613,\n",
    "  -33.0033,\n",
    "  -39.0614,\n",
    "   17.2727,\n",
    "    0.1613,\n",
    "   14.4168,\n",
    "  -27.6633,\n",
    "  -39.0377,\n",
    "   -4.7631,\n",
    "  -51.0720,\n",
    "  -62.0199,\n",
    "  -29.3812,\n",
    "  -81.6184,\n",
    "   40.3344,\n",
    "  -25.2426,\n",
    "   26.7422,\n",
    "    5.6137,\n",
    "  -40.8750,\n",
    "  -54.7390,\n",
    " -112.1031,\n",
    "  -61.7583,\n",
    "   -3.0080,\n",
    "   36.7003,\n",
    "  -61.6589,\n",
    "  -27.8825,\n",
    "  -66.4203,\n",
    "  -34.6783,\n",
    "  -13.7624,\n",
    "  -13.9461,\n",
    "   54.1666,\n",
    "   10.6131,\n",
    "   23.3136,\n",
    "   28.5489,\n",
    "   15.0299,\n",
    "   34.9326,\n",
    "   25.1701,\n",
    "   21.6111,\n",
    "   37.7436,\n",
    "   48.8070,\n",
    "   37.1013,\n",
    "   29.8247,\n",
    "   16.8166,\n",
    "   -2.5705,\n",
    "   35.4501,\n",
    "   29.2786,\n",
    "   43.3663,\n",
    "   33.9275,\n",
    "   33.3896,\n",
    "   25.7540,\n",
    "   -8.1185,\n",
    "   12.9466,\n",
    "    3.9164,\n",
    "  -16.2706,\n",
    "   10.8444,\n",
    "  -23.6102,\n",
    "   -0.7154,\n",
    "   25.5718,\n",
    "    4.5365,\n",
    "  -41.3167,\n",
    "  -35.4549,\n",
    "   12.1745,\n",
    "  -40.5664,\n",
    "    0.7210,\n",
    "  -79.2005,\n",
    "  -50.2333,\n",
    "  -87.0090,\n",
    "  -82.5078,\n",
    "  -70.4977,\n",
    "  -38.1764,\n",
    "    9.3652,\n",
    "  -45.0542,\n",
    "  -30.5394,\n",
    "  -30.3180,\n",
    "  -21.6355,\n",
    "  -37.2945,\n",
    "  -26.8235,\n",
    "  -36.8352,\n",
    "  -48.0043,\n",
    "  -43.1612,\n",
    "  -37.5624,\n",
    "  -40.4677,\n",
    "   62.9097,\n",
    "   44.3744,\n",
    "   72.8049,\n",
    "   77.1313,\n",
    "   87.4973,\n",
    "   90.2484,\n",
    "  105.0358,\n",
    "   85.3905,\n",
    "   42.0512,\n",
    "   85.7400,\n",
    "   -6.9430,\n",
    "   11.4366,\n",
    "  -31.4765,\n",
    "   -8.9987,\n",
    "  -24.7100,\n",
    "  -35.4818,\n",
    "  -22.8289,\n",
    "    2.7313,\n",
    "   24.1665,\n",
    "  -15.6631,\n",
    "   45.5822,\n",
    "   52.3064,\n",
    "   14.5131,\n",
    "   26.0338,\n",
    "   16.3329,\n",
    "   57.6050,\n",
    "   67.5738,\n",
    "   34.3300,\n",
    "   58.8460,\n",
    "   80.9592,\n",
    "  -17.4596,\n",
    "  -41.0767,\n",
    "   27.9593,\n",
    "   -6.6398,\n",
    "   24.1645,\n",
    "   -2.0159,\n",
    "  -17.0441,\n",
    "  -18.3125,\n",
    "  -56.2523,\n",
    "  -37.2776,\n",
    "    1.6071,\n",
    "  -11.4236,\n",
    "   25.5120,\n",
    "    9.9778,\n",
    "   24.4185,\n",
    "   10.8751,\n",
    "    9.3382,\n",
    "    7.7177,\n",
    "  -19.8777,\n",
    "   -0.1120,\n",
    "  -26.3182,\n",
    "  -24.0470,\n",
    "   32.0800,\n",
    "   47.3838,\n",
    "   58.2209,\n",
    "  -32.8575,\n",
    "  -13.7101,\n",
    "   65.8020,\n",
    "  -22.0409,\n",
    "  -62.0769,\n",
    "  -64.0927,\n",
    "  -27.8855,\n",
    " -115.7689,\n",
    " -123.4451,\n",
    " -147.8835,\n",
    "  -96.7453,\n",
    " -121.1030,\n",
    " -140.1373,\n",
    "  -34.7044,\n",
    "  -69.8748,\n",
    "   62.6606,\n",
    "   79.4735,\n",
    "  -10.2865,\n",
    "   21.0471,\n",
    "   -6.2489,\n",
    "   57.6965,\n",
    "   82.3064,\n",
    "   27.0893,\n",
    "   93.1701,\n",
    "  108.0696,\n",
    "  -53.2160,\n",
    "    1.5877,\n",
    "  -75.8344,\n",
    "  -28.4099,\n",
    "  -70.6233,\n",
    " -104.7413,\n",
    "  -83.6591,\n",
    "   -8.3946,\n",
    "   17.3508,\n",
    "  -80.5072,\n",
    "   -7.3122,\n",
    "   -0.5994,\n",
    "   27.9449,\n",
    "   41.2310,\n",
    "   44.2158,\n",
    "   -9.2162,\n",
    "    7.9930,\n",
    "   53.5686,\n",
    "    1.8669,\n",
    "  -19.9899,\n",
    "   31.2626,\n",
    "   14.4400,\n",
    "    0.3833,\n",
    "  -29.5827,\n",
    "  -16.5024,\n",
    "   56.6367,\n",
    "   35.2492,\n",
    "  -49.8159,\n",
    "    1.6465,\n",
    "   64.8125,\n",
    "   20.4416,\n",
    "   31.1579,\n",
    "    8.4401,\n",
    "   22.4997,\n",
    "   13.0928,\n",
    "   15.3997,\n",
    "   33.9661,\n",
    "   34.5025,\n",
    "   38.7947,\n",
    "   31.8401,\n",
    "   -6.1850,\n",
    "  -47.4546,\n",
    "   71.0424,\n",
    "   24.2324,\n",
    "   70.6450,\n",
    "   32.9531,\n",
    "   14.4727,\n",
    "    9.9435,\n",
    "  -68.0921,\n",
    "  -21.0483,\n",
    "    2.6713,\n",
    "   -4.9259,\n",
    "   28.9047,\n",
    "   15.1659,\n",
    "   32.9675,\n",
    "   11.0467,\n",
    "   12.9095,\n",
    "   17.0947,\n",
    "   -6.5814,\n",
    "   -0.3828,\n",
    "   41.3290,\n",
    "    2.1714,\n",
    "   85.6146,\n",
    "   78.5032,\n",
    "  101.1965,\n",
    "   76.3969,\n",
    "   71.8516,\n",
    "   75.9312,\n",
    "    1.6621,\n",
    "   43.1108,\n",
    "   67.9198,\n",
    "   54.2256,\n",
    "   18.3611,\n",
    "   11.7846,\n",
    "    8.3532,\n",
    "   77.1874,\n",
    "   82.5351,\n",
    "   10.6808,\n",
    "   50.6188,\n",
    "  104.5796,\n",
    "  -59.1880,\n",
    "  -39.0473,\n",
    "  -51.7542,\n",
    "  -57.3667,\n",
    "  -64.3455,\n",
    "  -76.9272,\n",
    "  -85.8425,\n",
    "  -68.7928,\n",
    "  -45.3163,\n",
    "  -80.4782,\n",
    "  -17.1335,\n",
    "  -25.4644,\n",
    "   23.0309,\n",
    "    5.9986,\n",
    "   22.0742,\n",
    "   -5.0662,\n",
    "  -11.9204,\n",
    "   -0.0145,\n",
    "  -31.6539,\n",
    "  -29.1468,\n",
    "   -7.1039,\n",
    "   31.4884,\n",
    "  -79.1418,\n",
    "  -46.0208,\n",
    "  -86.9609,\n",
    "  -43.4686,\n",
    "  -28.1585,\n",
    "  -34.8760,\n",
    "   49.5128,\n",
    "    6.0895,\n",
    "   20.2758,\n",
    "   25.7541,\n",
    "   25.6648,\n",
    "   44.0991,\n",
    "   35.3852,\n",
    "   22.1423,\n",
    "   43.0807,\n",
    "   55.6970,\n",
    "   32.0636,\n",
    "   30.9640,\n",
    "  -15.1159,\n",
    "  -14.1454,\n",
    "   -1.8788,\n",
    "   -4.1037,\n",
    "   -3.0089,\n",
    "  -14.6308,\n",
    "  -19.2278,\n",
    "   -3.6205,\n",
    "  -16.1608,\n",
    "  -23.0672,\n",
    "  -13.4353,\n",
    "   -2.9453,\n",
    "   -1.7304,\n",
    "   18.4511,\n",
    "   12.6915,\n",
    "  -28.3076,\n",
    "  -13.4117,\n",
    "   30.7483,\n",
    "    2.6281,\n",
    "  -28.1082,\n",
    "   -1.7275,\n",
    "  -37.0933,\n",
    "   69.0911,\n",
    "   40.8564,\n",
    "   80.6142,\n",
    "   31.3543,\n",
    "   22.0494,\n",
    "   35.7036,\n",
    "  -44.8708,\n",
    "  -15.0364,\n",
    "   -6.2571,\n",
    "  -11.4921,\n",
    "  -18.7378,\n",
    "  -27.9506,\n",
    "  -24.4681,\n",
    "   -7.0877,\n",
    "  -16.0345,\n",
    "  -34.0047,\n",
    "  -17.0878,\n",
    "   -3.2726,\n",
    "   11.7055,\n",
    "  -12.7055,\n",
    "   47.3716,\n",
    "   35.2881,\n",
    "   57.8159,\n",
    "   29.5766,\n",
    "   31.0579,\n",
    "   36.3399,\n",
    "  -16.7498,\n",
    "    2.2108,\n",
    "  -27.8963,\n",
    "   -1.2103,\n",
    "  -49.9358,\n",
    "  -31.7937,\n",
    "  -51.6542,\n",
    "  -59.4219,\n",
    "  -54.6824,\n",
    "  -28.1305,\n",
    "   -0.9816,\n",
    "  -43.7909,\n",
    "   11.5796,\n",
    "   48.5956,\n",
    "  -35.2402,\n",
    "    6.3644,\n",
    "  -22.7775,\n",
    "  -11.8035,\n",
    "   16.8669,\n",
    "   27.2886,\n",
    "   63.9977,\n",
    "   30.2238,\n",
    "   58.6925,\n",
    "   62.9066,\n",
    "   -4.5890,\n",
    "   13.2554,\n",
    "  -11.1286,\n",
    "   57.4430,\n",
    "   72.5046,\n",
    "   15.7975,\n",
    "   69.3191,\n",
    "   95.4638,\n",
    "   12.4509,\n",
    "  -44.3697,\n",
    "   81.2582,\n",
    "   29.4997,\n",
    "   80.5036,\n",
    "   54.4523,\n",
    "   32.8922,\n",
    "    8.6286,\n",
    "  -66.7209,\n",
    "    0.5400,\n",
    "  -54.2910,\n",
    "  -46.7734,\n",
    "  -44.0108,\n",
    "  -63.7209,\n",
    "  -59.6965,\n",
    "  -67.6177,\n",
    "  -83.9505,\n",
    "  -72.6834,\n",
    "  -52.7235,\n",
    "  -77.2701,\n",
    "   26.9441,\n",
    "   20.0033,\n",
    "   18.4644,\n",
    "   32.2894,\n",
    "   28.0037,\n",
    "   24.0101,\n",
    "   38.1700,\n",
    "   33.9763,\n",
    "   26.4998,\n",
    "   35.6921,\n",
    "   28.5806,\n",
    "   57.1259,\n",
    "  -27.5911,\n",
    "   16.9243,\n",
    "  -25.4548,\n",
    "    3.3368,\n",
    "   29.3113,\n",
    "   32.5762,\n",
    "   81.3877,\n",
    "   47.9664,\n",
    "   -8.6576,\n",
    "  -20.3323,\n",
    "   17.2915,\n",
    "    1.7855,\n",
    "   16.9200,\n",
    "    6.6580,\n",
    "   -6.1653,\n",
    "  -13.3352,\n",
    "  -30.0380,\n",
    "  -16.0413,\n",
    "  -30.7399,\n",
    "   13.5959,\n",
    " -108.2352,\n",
    "  -75.3430,\n",
    " -121.7377,\n",
    "  -76.3032,\n",
    "  -69.2534,\n",
    "  -73.9792,\n",
    "   29.8265,\n",
    "  -23.8756,\n",
    "  -58.9734,\n",
    "  -42.1953,\n",
    "  -42.9925,\n",
    "  -49.3491,\n",
    "  -46.2152,\n",
    "  -80.9929,\n",
    "  -86.9403,\n",
    "  -52.9740,\n",
    "  -47.1076,\n",
    "  -81.7662,\n",
    "  -40.1184,\n",
    "  -30.4971,\n",
    "  -58.0272,\n",
    "  -78.3599,\n",
    "  -83.7911,\n",
    "  -47.8885,\n",
    "  -73.7415,\n",
    " -102.1172,\n",
    "  -43.6412,\n",
    "  -40.9852,\n",
    "   60.4516,\n",
    "   60.1060,\n",
    "   38.4056,\n",
    "   61.9437,\n",
    "   52.8716,\n",
    "   72.3071,\n",
    "   89.4900,\n",
    "   72.3827,\n",
    "   67.1543,\n",
    "   87.9151,\n",
    "  -52.0599,\n",
    "  -38.4472,\n",
    "  -84.5216,\n",
    " -100.1725,\n",
    " -108.5875,\n",
    "  -72.0791,\n",
    "  -93.4510,\n",
    " -117.5195,\n",
    "  -49.2734,\n",
    "  -57.2467,\n",
    "  -48.5214,\n",
    "  -14.3671,\n",
    " -105.6084,\n",
    " -106.8343,\n",
    " -140.5309,\n",
    "  -84.8864,\n",
    "  -96.4675,\n",
    " -117.8171,\n",
    "  -13.0890,\n",
    "  -45.1461,\n",
    "   35.2198,\n",
    "   23.5310,\n",
    "   41.2361,\n",
    "   41.4263,\n",
    "   50.9500,\n",
    "   56.4403,\n",
    "   62.3292,\n",
    "   44.2011,\n",
    "   26.3730,\n",
    "   55.6508,\n",
    "   28.4656,\n",
    "   -1.2991,\n",
    "   43.8310,\n",
    "   15.4381,\n",
    "   45.1062,\n",
    "   55.6930,\n",
    "   47.7989,\n",
    "    7.8597,\n",
    "  -11.4325,\n",
    "   40.2775,\n",
    "   13.3700,\n",
    "  -13.1879,\n",
    "   71.6155,\n",
    "   62.3261,\n",
    "   83.5256,\n",
    "   35.2728,\n",
    "   40.8666,\n",
    "   61.4905,\n",
    "  -20.3821,\n",
    "   -1.7397,\n",
    "    8.9530,\n",
    "    5.9674,\n",
    "   -6.1629,\n",
    "  -19.9119,\n",
    "  -19.3939,\n",
    "   15.8984,\n",
    "    7.8362,\n",
    "  -26.0684,\n",
    "   -0.3118,\n",
    "   25.4946,\n",
    "   -2.6031,\n",
    "    3.1700,\n",
    "  -21.6090,\n",
    "  -17.0022,\n",
    "  -23.9440,\n",
    "   -8.1492,\n",
    "   -4.5543,\n",
    "  -22.7541,\n",
    "    4.9288,\n",
    "    5.6407,\n",
    "   25.6069,\n",
    "   -8.6838,\n",
    "   42.0524,\n",
    "    6.7897,\n",
    "   34.0521,\n",
    "   60.1171,\n",
    "   38.9708,\n",
    "  -13.1137,\n",
    "  -20.2872,\n",
    "   38.7975,\n",
    "  -58.3532,\n",
    "  -28.0442,\n",
    "  -88.9792,\n",
    "  -77.0757,\n",
    "  -99.1115,\n",
    "  -99.8722,\n",
    " -104.1693,\n",
    "  -76.8930,\n",
    "  -18.4653,\n",
    "  -80.9568,\n",
    "   -7.5973,\n",
    "   10.8947,\n",
    "  -20.5825,\n",
    "   -4.3315,\n",
    "  -19.7231,\n",
    "  -18.4275,\n",
    "   -7.3614,\n",
    "    1.1647,\n",
    "   17.6685,\n",
    "   -3.2222,\n",
    "   17.4864,\n",
    "  -18.0777,\n",
    "   59.4788,\n",
    "   21.8074,\n",
    "   55.5028,\n",
    "   48.8294,\n",
    "   32.5659,\n",
    "    9.7081,\n",
    "  -33.3270,\n",
    "   20.3495,\n",
    "   76.8817,\n",
    "   36.1262,\n",
    "   75.4499,\n",
    "   53.1863,\n",
    "   81.6778,\n",
    "  113.0115,\n",
    "  112.8016,\n",
    "   55.9800,\n",
    "   34.4205,\n",
    "  111.3170,\n",
    "   42.0748,\n",
    "   46.3276,\n",
    "   26.5391,\n",
    "   46.9964,\n",
    "   38.2259,\n",
    "   46.4896,\n",
    "   68.5999,\n",
    "   60.3637,\n",
    "   63.0347,\n",
    "   59.1450,\n",
    "  -37.7391,\n",
    "  -33.6666,\n",
    "  -22.7805,\n",
    "  -37.5021,\n",
    "  -31.0929,\n",
    "  -43.0846,\n",
    "  -54.7786,\n",
    "  -47.1713,\n",
    "  -37.3167,\n",
    "  -51.9746,\n",
    "    7.6209,\n",
    "   25.3656,\n",
    "    7.9536,\n",
    "   36.8277,\n",
    "   20.7369,\n",
    "   -9.8243,\n",
    "   13.9305,\n",
    "   56.0811,\n",
    "   43.1229,\n",
    "    2.8626,\n",
    "  -25.6868,\n",
    "  -43.4062,\n",
    "    3.3244,\n",
    "  -25.4199,\n",
    "   -7.6598,\n",
    "  -13.5214,\n",
    "  -37.8497,\n",
    "  -41.6004,\n",
    "  -62.2109,\n",
    "  -39.9368,\n",
    "  -79.8323,\n",
    "  -39.4427,\n",
    "  -66.9803,\n",
    "  -37.2063,\n",
    "  -58.4002,\n",
    " -121.6920,\n",
    " -118.9743,\n",
    "  -27.1337,\n",
    "  -32.5871,\n",
    " -123.8067,\n",
    "   99.8435,\n",
    "  111.3484,\n",
    "   45.0806,\n",
    "   98.3647,\n",
    "   65.0314,\n",
    "  101.6935,\n",
    "  153.0044,\n",
    "  133.4394,\n",
    "  144.9140,\n",
    "  149.1755,\n",
    "   31.0453,\n",
    "   15.7429,\n",
    "   42.3167,\n",
    "   32.7665,\n",
    "   48.4140,\n",
    "   51.0556,\n",
    "   58.4738,\n",
    "   35.5076,\n",
    "   12.5736,\n",
    "   46.6381,\n",
    "   56.5691,\n",
    "   54.0382,\n",
    "   66.7478,\n",
    "   99.1523,\n",
    "   94.7357,\n",
    "   63.9902,\n",
    "   97.1920,\n",
    "  129.2111,\n",
    "   68.5896,\n",
    "   63.1988,\n",
    "  -11.5851,\n",
    "    4.8207,\n",
    "  -30.0014,\n",
    "  -12.9515,\n",
    "  -28.5436,\n",
    "  -35.7875,\n",
    "  -26.0215,\n",
    "   -7.4045,\n",
    "   10.7344,\n",
    "  -17.5469,\n",
    "   52.7121,\n",
    "   11.0501,\n",
    "   95.7147,\n",
    "   79.5129,\n",
    "  103.9420,\n",
    "   96.2149,\n",
    "   95.8613,\n",
    "   76.2511,\n",
    "    7.4791,\n",
    "   62.5669,\n",
    "   -5.7730,\n",
    "   49.4028,\n",
    "  -70.8433,\n",
    "   -9.0890,\n",
    "  -69.8875,\n",
    "  -56.3278,\n",
    "  -24.1811,\n",
    "   13.2776,\n",
    "   73.5341,\n",
    "   -0.9440,\n",
    "  -42.5205,\n",
    "  -57.7422,\n",
    "   29.0651,\n",
    "   11.7197,\n",
    "   38.3672,\n",
    "  -40.0050,\n",
    "  -45.4690,\n",
    "   13.3505,\n",
    "  -66.1048,\n",
    "  -91.5841,\n",
    "  -20.7910,\n",
    "  -49.4022,\n",
    "   16.0110,\n",
    "  -14.3773,\n",
    "   10.8786,\n",
    "   -7.5153,\n",
    "  -33.1469,\n",
    "  -38.3976,\n",
    "  -65.6431,\n",
    "  -42.4488,\n",
    "   24.1370,\n",
    "   44.9871,\n",
    "    2.9564,\n",
    "   36.7386,\n",
    "   15.1112,\n",
    "   14.6533,\n",
    "   43.7402,\n",
    "   54.1967,\n",
    "   58.1558,\n",
    "   41.7045])\n",
    "Y=Y.reshape((m,N));"
   ]
  },
  {
   "cell_type": "code",
   "execution_count": 67,
   "metadata": {},
   "outputs": [
    {
     "data": {
      "text/plain": [
       "array([[-4.44089210e-16, -3.05311332e-16, -1.33226763e-15],\n",
       "       [ 7.77156117e-16, -4.44089210e-16,  1.33226763e-15],\n",
       "       [ 8.32667268e-16,  3.88578059e-16,  1.99840144e-15],\n",
       "       [-3.33066907e-16,  6.41847686e-16,  1.99840144e-15],\n",
       "       [-2.44249065e-15,  1.66533454e-16, -3.10862447e-15],\n",
       "       [-1.11022302e-15,  8.32667268e-16, -4.44089210e-15],\n",
       "       [ 2.22044605e-16, -2.77555756e-17,  7.77156117e-16],\n",
       "       [ 2.22044605e-16, -2.22044605e-16,  6.66133815e-16],\n",
       "       [ 0.00000000e+00,  1.11022302e-16,  4.99600361e-16],\n",
       "       [ 1.33226763e-15,  2.22044605e-16, -2.66453526e-15]])"
      ]
     },
     "execution_count": 67,
     "metadata": {},
     "output_type": "execute_result"
    }
   ],
   "source": [
    "A = Y @ X.T @ linalg.inv(X@X.T)\n",
    "At, _, _, _ = linalg.lstsq(X.T, Y.T)\n",
    "np.linalg.norm(A @ X) / np.linalg.norm(Y)\n",
    "At.T - A"
   ]
  },
  {
   "cell_type": "code",
   "execution_count": 68,
   "metadata": {},
   "outputs": [],
   "source": [
    "# 7.3 Curve Smoothing\n",
    "n = 51;\n",
    "f =  1/20*np.array([-59.1511,\n",
    "  -56.1064,\n",
    "  -50.2748,\n",
    "  -49.4777,\n",
    "  -37.8666,\n",
    "  -39.1663,\n",
    "  -29.5690,\n",
    "  -23.1988,\n",
    "  -13.5347,\n",
    "  -19.0507,\n",
    "  -13.5943,\n",
    "   -3.3281,\n",
    "    4.3185,\n",
    "   -0.8454,\n",
    "   -5.2978,\n",
    "   -4.2539,\n",
    "   -4.8049,\n",
    "    3.4295,\n",
    "   -7.6252,\n",
    "   -2.9975,\n",
    "   -7.9095,\n",
    "  -10.6627,\n",
    "   -3.6029,\n",
    "    2.1732,\n",
    "   -8.9521,\n",
    "   -3.4540,\n",
    "    3.6084,\n",
    "    9.1472,\n",
    "    3.9546,\n",
    "    6.3898,\n",
    "   13.0362,\n",
    "    2.7332,\n",
    "   13.4027,\n",
    "   10.6478,\n",
    "    0.9049,\n",
    "    5.0750,\n",
    "    6.0504,\n",
    "   -0.6255,\n",
    "    0.9780,\n",
    "   -2.9543,\n",
    "   -2.8318,\n",
    "   -1.5979,\n",
    "   -3.5722,\n",
    "    1.1280,\n",
    "    8.8262,\n",
    "  18.4649,\n",
    "   15.2587,\n",
    "   30.3260,\n",
    "   23.3266,\n",
    "   34.6998,\n",
    "   28.5653])"
   ]
  },
  {
   "cell_type": "code",
   "execution_count": 69,
   "metadata": {},
   "outputs": [
    {
     "data": {
      "text/plain": [
       "Text(0, 0.5, '$J_2 = \\\\| Kg \\\\|^2$')"
      ]
     },
     "execution_count": 69,
     "metadata": {},
     "output_type": "execute_result"
    },
    {
     "data": {
      "image/png": "[encoded data removed]",
      "text/plain": [
       "<Figure size 432x288 with 1 Axes>"
      ]
     },
     "metadata": {
      "needs_background": "light"
     },
     "output_type": "display_data"
    }
   ],
   "source": [
    "K = linalg.toeplitz(np.r_[1, np.zeros(n-3)], np.r_[[1, -2, 1], np.zeros(n-3)])\n",
    "\n",
    "J1 = []\n",
    "J2 = []\n",
    "gs = []\n",
    "for mu in np.logspace(-4, 3):\n",
    "    g = linalg.inv(np.eye(n)/n + mu * K.T@K) @ f/n\n",
    "    gs += [g]\n",
    "    J1 += [1/n*linalg.norm(g-f)**2]\n",
    "    J2 += [n**2/(n-2) * linalg.norm(K@g)**2]\n",
    "\n",
    "plt.plot(J1, J2)\n",
    "plt.xlabel(r\"$J_1 = \\| f - g\\|^2$\")\n",
    "plt.ylabel(r\"$J_2 = \\| Kg \\|^2$\")"
   ]
  },
  {
   "cell_type": "code",
   "execution_count": 70,
   "metadata": {},
   "outputs": [
    {
     "data": {
      "image/png": "[encoded data removed]",
      "text/plain": [
       "<Figure size 432x288 with 1 Axes>"
      ]
     },
     "metadata": {
      "needs_background": "light"
     },
     "output_type": "display_data"
    }
   ],
   "source": [
    "from matplotlib import animation\n",
    "\n",
    "fig = plt.figure()\n",
    "ax = plt.axes(xlim=(0, n), ylim=(f.min(), f.max()))\n",
    "ax.plot(range(n), f, \"-o\")\n",
    "line, = ax.plot([], [], lw=2)\n",
    "\n",
    "def init():\n",
    "    line.set_data(range(n), f)\n",
    "    return line,\n",
    "\n",
    "def animate(i):\n",
    "    line.set_data(range(n), gs[i])\n",
    "    return line,\n",
    "\n",
    "anim = animation.FuncAnimation(fig, animate, init_func=init,\n",
    "            frames=50, interval=50, blit=True)\n",
    "anim.save(\"basic_animation.mp4\", fps=30, extra_args=['-vcodec', 'libx264'])"
   ]
  },
  {
   "cell_type": "code",
   "execution_count": 71,
   "metadata": {},
   "outputs": [
    {
     "name": "stdout",
     "output_type": "stream",
     "text": [
      "dict_keys(['l', 'R'])\n",
      "(6, 11) 6\n"
     ]
    }
   ],
   "source": [
    "# Estimating link delays from route latencies\n",
    "url = \"https://ee263.stanford.edu/julia/files/route_latency_data.json\"\n",
    "data = load_problem_json(url)\n",
    "l = data['l']\n",
    "R = data['R']\n",
    "print(R.shape, np.linalg.matrix_rank(R))"
   ]
  },
  {
   "cell_type": "code",
   "execution_count": 72,
   "metadata": {},
   "outputs": [
    {
     "data": {
      "text/plain": [
       "array([2.56, 6.19, 3.21, 4.45, 6.15, 7.92])"
      ]
     },
     "execution_count": 72,
     "metadata": {},
     "output_type": "execute_result"
    }
   ],
   "source": [
    "# linalg.null_space(R)\n",
    "d = linalg.inv(R@R.T) @ R @ l\n",
    "d"
   ]
  },
  {
   "cell_type": "code",
   "execution_count": 73,
   "metadata": {},
   "outputs": [
    {
     "data": {
      "text/plain": [
       "1.7763568394002505e-15"
      ]
     },
     "execution_count": 73,
     "metadata": {},
     "output_type": "execute_result"
    }
   ],
   "source": [
    "y = linalg.null_space(R)[:,0]\n",
    "d1 = linalg.inv(R @ R.T ) @ R @ (5 * y + l)\n",
    "np.allclose(d, d1)\n",
    "l @ y"
   ]
  },
  {
   "cell_type": "code",
   "execution_count": 74,
   "metadata": {},
   "outputs": [],
   "source": [
    "import yfinance as yf"
   ]
  },
  {
   "cell_type": "code",
   "execution_count": 75,
   "metadata": {},
   "outputs": [],
   "source": [
    "# Quadratic extrapolation of a time series\n",
    "A = np.array([\n",
    "    [0, 0, 1],\n",
    "    [1, -1, 1],\n",
    "    [4, -2, 1]\n",
    "])\n",
    "Ainv = linalg.inv(A)\n",
    "c = Ainv.sum(axis=0)"
   ]
  },
  {
   "cell_type": "code",
   "execution_count": 76,
   "metadata": {},
   "outputs": [
    {
     "name": "stdout",
     "output_type": "stream",
     "text": [
      "[*********************100%***********************]  1 of 1 completed\n"
     ]
    },
    {
     "data": {
      "text/html": [
       "<div>\n",
       "<style scoped>\n",
       "    .dataframe tbody tr th:only-of-type {\n",
       "        vertical-align: middle;\n",
       "    }\n",
       "\n",
       "    .dataframe tbody tr th {\n",
       "        vertical-align: top;\n",
       "    }\n",
       "\n",
       "    .dataframe thead th {\n",
       "        text-align: right;\n",
       "    }\n",
       "</style>\n",
       "<table border=\"1\" class=\"dataframe\">\n",
       "  <thead>\n",
       "    <tr style=\"text-align: right;\">\n",
       "      <th></th>\n",
       "      <th>Open</th>\n",
       "      <th>High</th>\n",
       "      <th>Low</th>\n",
       "      <th>Close</th>\n",
       "      <th>Adj Close</th>\n",
       "      <th>Volume</th>\n",
       "    </tr>\n",
       "    <tr>\n",
       "      <th>Date</th>\n",
       "      <th></th>\n",
       "      <th></th>\n",
       "      <th></th>\n",
       "      <th></th>\n",
       "      <th></th>\n",
       "      <th></th>\n",
       "    </tr>\n",
       "  </thead>\n",
       "  <tbody>\n",
       "    <tr>\n",
       "      <th>2022-01-03</th>\n",
       "      <td>476.299988</td>\n",
       "      <td>477.850006</td>\n",
       "      <td>473.850006</td>\n",
       "      <td>477.709991</td>\n",
       "      <td>472.242310</td>\n",
       "      <td>72668200</td>\n",
       "    </tr>\n",
       "    <tr>\n",
       "      <th>2022-01-04</th>\n",
       "      <td>479.220001</td>\n",
       "      <td>479.980011</td>\n",
       "      <td>475.579987</td>\n",
       "      <td>477.549988</td>\n",
       "      <td>472.084137</td>\n",
       "      <td>71178700</td>\n",
       "    </tr>\n",
       "    <tr>\n",
       "      <th>2022-01-05</th>\n",
       "      <td>477.160004</td>\n",
       "      <td>477.980011</td>\n",
       "      <td>468.279999</td>\n",
       "      <td>468.380005</td>\n",
       "      <td>463.019104</td>\n",
       "      <td>104538900</td>\n",
       "    </tr>\n",
       "    <tr>\n",
       "      <th>2022-01-06</th>\n",
       "      <td>467.890015</td>\n",
       "      <td>470.820007</td>\n",
       "      <td>465.429993</td>\n",
       "      <td>467.940002</td>\n",
       "      <td>462.584167</td>\n",
       "      <td>86858900</td>\n",
       "    </tr>\n",
       "    <tr>\n",
       "      <th>2022-01-07</th>\n",
       "      <td>467.950012</td>\n",
       "      <td>469.200012</td>\n",
       "      <td>464.649994</td>\n",
       "      <td>466.089996</td>\n",
       "      <td>460.755341</td>\n",
       "      <td>85111600</td>\n",
       "    </tr>\n",
       "    <tr>\n",
       "      <th>...</th>\n",
       "      <td>...</td>\n",
       "      <td>...</td>\n",
       "      <td>...</td>\n",
       "      <td>...</td>\n",
       "      <td>...</td>\n",
       "      <td>...</td>\n",
       "    </tr>\n",
       "    <tr>\n",
       "      <th>2022-10-28</th>\n",
       "      <td>379.869995</td>\n",
       "      <td>389.519989</td>\n",
       "      <td>379.679993</td>\n",
       "      <td>389.019989</td>\n",
       "      <td>389.019989</td>\n",
       "      <td>100302000</td>\n",
       "    </tr>\n",
       "    <tr>\n",
       "      <th>2022-10-31</th>\n",
       "      <td>386.440002</td>\n",
       "      <td>388.399994</td>\n",
       "      <td>385.260010</td>\n",
       "      <td>386.209991</td>\n",
       "      <td>386.209991</td>\n",
       "      <td>96631300</td>\n",
       "    </tr>\n",
       "    <tr>\n",
       "      <th>2022-11-01</th>\n",
       "      <td>390.140015</td>\n",
       "      <td>390.390015</td>\n",
       "      <td>383.290009</td>\n",
       "      <td>384.519989</td>\n",
       "      <td>384.519989</td>\n",
       "      <td>85407600</td>\n",
       "    </tr>\n",
       "    <tr>\n",
       "      <th>2022-11-02</th>\n",
       "      <td>383.899994</td>\n",
       "      <td>388.630005</td>\n",
       "      <td>374.760010</td>\n",
       "      <td>374.869995</td>\n",
       "      <td>374.869995</td>\n",
       "      <td>126739300</td>\n",
       "    </tr>\n",
       "    <tr>\n",
       "      <th>2022-11-03</th>\n",
       "      <td>371.464996</td>\n",
       "      <td>374.200012</td>\n",
       "      <td>368.799988</td>\n",
       "      <td>373.350891</td>\n",
       "      <td>373.350891</td>\n",
       "      <td>52821063</td>\n",
       "    </tr>\n",
       "  </tbody>\n",
       "</table>\n",
       "<p>212 rows × 6 columns</p>\n",
       "</div>"
      ],
      "text/plain": [
       "                  Open        High         Low       Close   Adj Close  \\\n",
       "Date                                                                     \n",
       "2022-01-03  476.299988  477.850006  473.850006  477.709991  472.242310   \n",
       "2022-01-04  479.220001  479.980011  475.579987  477.549988  472.084137   \n",
       "2022-01-05  477.160004  477.980011  468.279999  468.380005  463.019104   \n",
       "2022-01-06  467.890015  470.820007  465.429993  467.940002  462.584167   \n",
       "2022-01-07  467.950012  469.200012  464.649994  466.089996  460.755341   \n",
       "...                ...         ...         ...         ...         ...   \n",
       "2022-10-28  379.869995  389.519989  379.679993  389.019989  389.019989   \n",
       "2022-10-31  386.440002  388.399994  385.260010  386.209991  386.209991   \n",
       "2022-11-01  390.140015  390.390015  383.290009  384.519989  384.519989   \n",
       "2022-11-02  383.899994  388.630005  374.760010  374.869995  374.869995   \n",
       "2022-11-03  371.464996  374.200012  368.799988  373.350891  373.350891   \n",
       "\n",
       "               Volume  \n",
       "Date                   \n",
       "2022-01-03   72668200  \n",
       "2022-01-04   71178700  \n",
       "2022-01-05  104538900  \n",
       "2022-01-06   86858900  \n",
       "2022-01-07   85111600  \n",
       "...               ...  \n",
       "2022-10-28  100302000  \n",
       "2022-10-31   96631300  \n",
       "2022-11-01   85407600  \n",
       "2022-11-02  126739300  \n",
       "2022-11-03   52821063  \n",
       "\n",
       "[212 rows x 6 columns]"
      ]
     },
     "execution_count": 76,
     "metadata": {},
     "output_type": "execute_result"
    }
   ],
   "source": [
    "data = yf.download(\"SPY\", period=\"YTD\") \n",
    "data"
   ]
  },
  {
   "cell_type": "code",
   "execution_count": 77,
   "metadata": {},
   "outputs": [
    {
     "data": {
      "text/plain": [
       "<AxesSubplot:xlabel='Date'>"
      ]
     },
     "execution_count": 77,
     "metadata": {},
     "output_type": "execute_result"
    },
    {
     "data": {
      "image/png": "[encoded data removed]",
      "text/plain": [
       "<Figure size 432x288 with 1 Axes>"
      ]
     },
     "metadata": {
      "needs_background": "light"
     },
     "output_type": "display_data"
    }
   ],
   "source": [
    "from datetime import date\n",
    "import pandas as pd\n",
    "\n",
    "close = data[\"Close\"].iloc[::-1].dropna()[:50]\n",
    "N = close.shape[0]\n",
    "C = linalg.toeplitz(np.r_[c[0], np.zeros(N-3)], np.r_[c, np.zeros(N-3)])\n",
    "\n",
    "pred = C @ close\n",
    "\n",
    "dates = close.index[3:].append(data[\"Close\"].index[-1:] + pd.DateOffset(1))\n",
    "predictions = pd.Series(pred, close.shift().index[:-2], name=\"PredClose\")\n",
    "close.plot()\n",
    "predictions.plot()"
   ]
  },
  {
   "cell_type": "code",
   "execution_count": 78,
   "metadata": {},
   "outputs": [
    {
     "data": {
      "text/plain": [
       "[<matplotlib.lines.Line2D at 0x7f5cd0685d10>]"
      ]
     },
     "execution_count": 78,
     "metadata": {},
     "output_type": "execute_result"
    },
    {
     "data": {
      "image/png": "[encoded data removed]",
      "text/plain": [
       "<Figure size 432x288 with 1 Axes>"
      ]
     },
     "metadata": {
      "needs_background": "light"
     },
     "output_type": "display_data"
    }
   ],
   "source": [
    "rng = np.random.default_rng(42)\n",
    "x = np.arange(-5, 5)\n",
    "N = x.shape[0]\n",
    "u = rng.normal(size=3)\n",
    "V= np.column_stack([x**2, x, np.ones(N)])\n",
    "y = V@u\n",
    "C = linalg.toeplitz(np.r_[c[0], np.zeros(N-3)], np.r_[c, np.zeros(N-3)])\n",
    "yhat = C @ y\n",
    "xhat = np.arange(-6, 2)\n",
    "plt.plot(x, y, '-o')\n",
    "plt.plot(xhat, yhat, \"-o\")"
   ]
  },
  {
   "cell_type": "code",
   "execution_count": 79,
   "metadata": {},
   "outputs": [
    {
     "name": "stderr",
     "output_type": "stream",
     "text": [
      "/home/alw/.local/lib/python3.7/site-packages/ipykernel_launcher.py:10: RuntimeWarning: invalid value encountered in sqrt\n",
      "  # Remove the CWD from sys.path while we load stuff.\n"
     ]
    }
   ],
   "source": [
    "# Householder reflection\n",
    "n = 10\n",
    "u = np.random.randn(n).reshape(-1, 1)\n",
    "u = u / linalg.norm(u)\n",
    "Q = np.eye(n) - 2*u@u.T\n",
    "np.allclose(Q, Q.T)  # symmetric\n",
    "np.allclose(Q@Q, np.eye(n)) # Orthogonal\n",
    "\n",
    "x = np.array([3, 2, 4, 1, 5])\n",
    "alpha = -x[0] + .5 * np.sqrt(2*x[0] - 4*linalg.norm(x)**2)"
   ]
  },
  {
   "cell_type": "code",
   "execution_count": 80,
   "metadata": {},
   "outputs": [
    {
     "name": "stderr",
     "output_type": "stream",
     "text": [
      "/home/alw/.local/lib/python3.7/site-packages/ipykernel_launcher.py:1: RuntimeWarning: invalid value encountered in sqrt\n",
      "  \"\"\"Entry point for launching an IPython kernel.\n"
     ]
    },
    {
     "data": {
      "text/plain": [
       "nan"
      ]
     },
     "execution_count": 80,
     "metadata": {},
     "output_type": "execute_result"
    }
   ],
   "source": [
    "np.sqrt(2*x[0] - 4*linalg.norm(x)**2)"
   ]
  },
  {
   "cell_type": "code",
   "execution_count": 81,
   "metadata": {},
   "outputs": [
    {
     "name": "stdout",
     "output_type": "stream",
     "text": [
      "Permute rows 0 1\n",
      "[[ 0.30471708 -1.03998411  0.7504512   0.94056472]\n",
      " [-1.95103519 -1.30217951  0.1278404  -0.31624259]\n",
      " [-0.01680116 -0.85304393  0.87939797  0.77779194]\n",
      " [ 0.0660307   1.12724121  0.46750934 -0.85929246]]\n",
      "[[-1.95103519 -1.30217951  0.1278404  -0.31624259]\n",
      " [ 0.30471708 -1.03998411  0.7504512   0.94056472]\n",
      " [-0.01680116 -0.85304393  0.87939797  0.77779194]\n",
      " [ 0.0660307   1.12724121  0.46750934 -0.85929246]]\n",
      "Index 1 0 -0.15618225725835228\n",
      "[ 0.         -1.24336144  0.7704176   0.89117323]\n",
      "[[ 0.          1.24336144 -0.7704176  -0.89117323]\n",
      " [ 1.95103519  0.05881807  0.6425772   1.20741583]\n",
      " [ 0.          0.          0.          0.        ]\n",
      " [ 0.          0.          0.          0.        ]]\n",
      "Index 2 0 0.00861140670449986\n",
      "[ 0.         -0.84183033  0.87829709  0.78051523]\n",
      "[[ 0.          1.24336144 -0.7704176  -0.89117323]\n",
      " [ 1.95103519  0.05881807  0.6425772   1.20741583]\n",
      " [ 0.          0.          0.          0.        ]\n",
      " [ 0.          0.          0.          0.        ]]\n",
      "Index 3 0 -0.03384392959451209\n",
      "[ 0.          1.08317034  0.47183596 -0.86999535]\n",
      "[[ 0.          1.24336144 -0.7704176  -0.89117323]\n",
      " [ 1.95103519  0.05881807  0.6425772   1.20741583]\n",
      " [ 0.          0.          0.          0.        ]\n",
      " [ 0.          0.          0.          0.        ]]\n",
      "Index 2 1 0.677060026548419\n",
      "[0.         0.         0.35667813 0.17713746]\n",
      "[[ 0.          1.24336144 -0.7704176  -0.89117323]\n",
      " [ 1.95103519  0.05881807  0.6425772   1.20741583]\n",
      " [ 0.          0.          0.          0.        ]\n",
      " [ 0.          0.          0.          0.        ]]\n",
      "Index 3 1 -0.8711628812990431\n",
      "[ 0.          0.          1.14299518 -0.09363831]\n",
      "[[ 0.00000000e+00  1.24336144e+00 -7.70417599e-01 -8.91173234e-01]\n",
      " [ 1.95103519e+00  5.88180659e-02  6.42577195e-01  1.20741583e+00]\n",
      " [ 0.00000000e+00  0.00000000e+00  0.00000000e+00  0.00000000e+00]\n",
      " [ 0.00000000e+00  0.00000000e+00  5.55111512e-17  0.00000000e+00]]\n",
      "Permute rows 2 3\n",
      "[[-1.95103519 -1.30217951  0.1278404  -0.31624259]\n",
      " [ 0.         -1.24336144  0.7704176   0.89117323]\n",
      " [ 0.          0.          0.35667813  0.17713746]\n",
      " [ 0.          0.          1.14299518 -0.09363831]]\n",
      "[[-1.95103519 -1.30217951  0.1278404  -0.31624259]\n",
      " [ 0.         -1.24336144  0.7704176   0.89117323]\n",
      " [ 0.          0.          1.14299518 -0.09363831]\n",
      " [ 0.          0.          0.35667813  0.17713746]]\n",
      "Index 3 2 0.31205567271812495\n",
      "[0.         0.         0.         0.20635782]\n",
      "[[ 0.          1.24336144 -0.7704176  -0.89117323]\n",
      " [ 1.95103519  0.05881807  0.6425772   1.20741583]\n",
      " [ 0.08283186  1.98028513 -1.19820568 -1.57266645]\n",
      " [-0.08283186 -1.98028513  0.0552105   1.66630476]]\n",
      "Allclose? False\n",
      "Difference\n",
      "[[ 0.         -1.24336144  0.7704176   0.89117323]\n",
      " [-1.95103519 -0.05881807 -0.6425772  -1.20741583]\n",
      " [-0.08283186 -1.98028513  1.19820568  1.57266645]\n",
      " [ 0.08283186  1.98028513 -0.0552105  -1.66630476]]\n"
     ]
    }
   ],
   "source": [
    "# Gaussian elimination\n",
    "DEBUG = False\n",
    "def debug(*s):\n",
    "    if DEBUG:\n",
    "        print(*s)\n",
    "\n",
    "\n",
    "def gaussian_elimination(A):\n",
    "    # Setup\n",
    "    assert A.shape[0] == A.shape[1]\n",
    "    n = A.shape[0]\n",
    "    U = np.zeros((n,n))\n",
    "    L = np.eye(n)\n",
    "    U = A.copy()\n",
    "    P = np.arange(n)\n",
    "    \n",
    "    # Iterate through each column i\n",
    "    for i in range(n-1):\n",
    "        # Find largest element in column i to permute as pivot\n",
    "        j = np.argmax(np.abs(U[i:,i])) + i\n",
    "        if j != i:  # there's more to permuting later rows which I don't care to involve\n",
    "        # if False:\n",
    "            debug(\"Permute rows\", i, j)\n",
    "            debug(U)\n",
    "            U[[i, j]] = U[[j, i]]\n",
    "            L[:, [i, j]] = L[:, [j, i]]\n",
    "            P[[i,j]] = P[[j, i]]\n",
    "            debug(U)\n",
    "        # Reduce each row k below row i\n",
    "        for k in range(i+1, n):\n",
    "            if(U[k, i] == 0):\n",
    "                continue\n",
    "            L[k,i] = U[k, i] / U[i,i]\n",
    "            debug(\"Index\", k, i, L[k,i])\n",
    "            elim = U[k] - U[i]*L[k,i]\n",
    "            U[k] = elim\n",
    "            debug(elim)\n",
    "            debug((L[P]@U) - A)\n",
    "            \n",
    "    return L, U, P\n",
    "\n",
    "DEBUG = True\n",
    "rng = np.random.default_rng(42)\n",
    "n=4\n",
    "A = rng.normal(size=(n, n))\n",
    "A1 = np.array([\n",
    "    [1, 1, 1],\n",
    "    [1, 2, 3],\n",
    "    [1, 3, 6]\n",
    "], dtype=float)\n",
    "A2 = np.array([\n",
    "    [0, 1, 1],\n",
    "    [1, 0, 1],\n",
    "    [2, 3, 4]\n",
    "], dtype=float)\n",
    "A3 = np.array([\n",
    "    [1, 2, 3],\n",
    "    [4, 5, 6],\n",
    "    [7, 8, 0]\n",
    "])\n",
    "L, U, P = gaussian_elimination(A)\n",
    "print(\"Allclose?\", np.allclose((L@U), A[P]))\n",
    "print(\"Difference\")\n",
    "print(A - (L@U)[P])"
   ]
  },
  {
   "cell_type": "code",
   "execution_count": 82,
   "metadata": {},
   "outputs": [
    {
     "name": "stdout",
     "output_type": "stream",
     "text": [
      "[[ 0.30471708 -1.03998411  0.7504512   0.94056472]\n",
      " [-1.95103519 -1.30217951  0.1278404  -0.31624259]\n",
      " [-0.01680116 -0.85304393  0.87939797  0.77779194]\n",
      " [ 0.0660307   1.12724121  0.46750934 -0.85929246]]\n",
      "[[ 0.30471708  0.20337733 -0.0199664   0.04939148]\n",
      " [ 0.         -1.24336144  0.7704176   0.89117323]\n",
      " [ 0.0660307   1.12724121 -0.31880771 -0.79487452]\n",
      " [-0.01680116 -0.85304393  0.52271985  0.8070123 ]]\n",
      "[1 0 3 2]\n",
      "[[ 0.          1.24336144 -0.7704176  -0.89117323]\n",
      " [ 1.95103519  0.05881807  0.6425772   1.20741583]\n",
      " [ 0.08283186  1.98028513 -1.19820568 -1.57266645]\n",
      " [-0.08283186 -1.98028513  0.0552105   1.66630476]]\n"
     ]
    }
   ],
   "source": [
    "print(A)\n",
    "print((L@U)[P])\n",
    "print(P)\n",
    "print((L@U)[P] - A)"
   ]
  },
  {
   "cell_type": "code",
   "execution_count": 83,
   "metadata": {},
   "outputs": [
    {
     "data": {
      "text/plain": [
       "array([[0., 0., 1.],\n",
       "       [0., 1., 0.],\n",
       "       [1., 0., 0.]])"
      ]
     },
     "execution_count": 83,
     "metadata": {},
     "output_type": "execute_result"
    }
   ],
   "source": [
    "def elim(e, i, j, n):\n",
    "    E = np.eye(n)\n",
    "    E[i, j] = e\n",
    "    return E\n",
    "\n",
    "def permute(i, j, n):\n",
    "    P = np.eye(n)\n",
    "    P[[i, j]] = P[[j, i]]\n",
    "    return P\n",
    "\n",
    "permute(0, 2, 3).T"
   ]
  },
  {
   "cell_type": "code",
   "execution_count": 84,
   "metadata": {},
   "outputs": [
    {
     "name": "stdout",
     "output_type": "stream",
     "text": [
      "0 2\n",
      "1 2\n"
     ]
    }
   ],
   "source": [
    "U = A3.copy()\n",
    "n = U.shape[0]\n",
    "L = []\n",
    "P = []\n",
    "for j in range(n-1):\n",
    "    k = np.argmax(U[j:, j]) + j\n",
    "    if k != j:\n",
    "        print(j,k)\n",
    "        "
   ]
  },
  {
   "cell_type": "code",
   "execution_count": 101,
   "metadata": {},
   "outputs": [
    {
     "data": {
      "text/plain": [
       "(array([1.69593900e+00+0.j, 2.98125211e-01+0.j, 2.62128436e-02+0.j,\n",
       "        1.46768812e-03+0.j, 5.43694337e-05+0.j, 1.29433209e-06+0.j,\n",
       "        1.79887375e-08+0.j, 1.11153896e-10+0.j]),\n",
       " array([[ 7.20271369e-01,  6.29483940e-01,  2.77547251e-01,\n",
       "          8.65170297e-02,  2.06555781e-02,  3.81061057e-03,\n",
       "         -5.23870235e-04, -4.71542508e-05],\n",
       "        [ 4.32526015e-01, -1.25670852e-01, -6.44928478e-01,\n",
       "         -5.50138187e-01, -2.66125949e-01, -8.57910783e-02,\n",
       "          1.88085602e-02,  2.53458803e-03],\n",
       "        [ 3.18843646e-01, -2.86419021e-01, -3.35150531e-01,\n",
       "          3.36254015e-01,  6.24066040e-01,  4.18791666e-01,\n",
       "         -1.58002873e-01, -3.31729078e-02],\n",
       "        [ 2.55242887e-01, -3.27570106e-01, -5.13071058e-02,\n",
       "          4.59247709e-01, -3.19535857e-02, -5.79709543e-01,\n",
       "          4.94541087e-01,  1.79869242e-01],\n",
       "        [ 2.13861951e-01, -3.32094295e-01,  1.44024125e-01,\n",
       "          2.75649626e-01, -4.19384713e-01, -1.23211504e-01,\n",
       "         -5.66497574e-01, -4.85042953e-01],\n",
       "        [ 1.84519789e-01, -3.23539967e-01,  2.72863054e-01,\n",
       "          1.12717212e-02, -3.65529026e-01,  4.18514942e-01,\n",
       "         -7.46928588e-02,  6.87275630e-01],\n",
       "        [ 1.62514374e-01, -3.10265782e-01,  3.57044203e-01,\n",
       "         -2.48964114e-01, -1.80069132e-02,  3.52364797e-01,\n",
       "          5.68839935e-01, -4.89690166e-01],\n",
       "        [ 1.45343694e-01, -2.95616626e-01,  4.11580765e-01,\n",
       "         -4.77278388e-01,  4.77966125e-01, -4.08263364e-01,\n",
       "         -2.82900642e-01,  1.38308608e-01]]))"
      ]
     },
     "execution_count": 101,
     "metadata": {},
     "output_type": "execute_result"
    }
   ],
   "source": [
    "A = hilb(8)\n",
    "P, L, U = linalg.lu(A, permute_l=False)\n",
    "# print(A)\n",
    "# print(L@U)\n",
    "# print(L)\n",
    "linalg.eig(A)"
   ]
  }
 ],
 "metadata": {
  "kernelspec": {
   "display_name": "Python 3.7.5 64-bit",
   "language": "python",
   "name": "python3"
  },
  "language_info": {
   "codemirror_mode": {
    "name": "ipython",
    "version": 3
   },
   "file_extension": ".py",
   "mimetype": "text/x-python",
   "name": "python",
   "nbconvert_exporter": "python",
   "pygments_lexer": "ipython3",
   "version": "3.7.5"
  },
  "orig_nbformat": 4,
  "vscode": {
   "interpreter": {
    "hash": "31f2aee4e71d21fbe5cf8b01ff0e069b9275f58929596ceb00d14d90e3e16cd6"
   }
  }
 },
 "nbformat": 4,
 "nbformat_minor": 2
}
