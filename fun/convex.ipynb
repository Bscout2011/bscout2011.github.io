{
 "cells": [
  {
   "cell_type": "code",
   "execution_count": 1,
   "metadata": {},
   "outputs": [],
   "source": [
    "import cvxpy as cp\n",
    "import numpy as np\n",
    "import matplotlib.pyplot as plt"
   ]
  },
  {
   "cell_type": "code",
   "execution_count": 2,
   "metadata": {},
   "outputs": [],
   "source": [
    "x = np.linspace(-1, 1)"
   ]
  },
  {
   "cell_type": "code",
   "execution_count": 3,
   "metadata": {},
   "outputs": [],
   "source": [
    "def one(x):\n",
    "    return 1 / (1 - np.square(x))\n",
    "\n",
    "def two(x):\n",
    "    return (1/2) * (np.exp(x) + np.exp(-x))"
   ]
  },
  {
   "cell_type": "code",
   "execution_count": 5,
   "metadata": {},
   "outputs": [
    {
     "name": "stderr",
     "output_type": "stream",
     "text": [
      "/home/alw/.local/lib/python3.7/site-packages/ipykernel_launcher.py:2: RuntimeWarning: divide by zero encountered in true_divide\n",
      "  \n"
     ]
    },
    {
     "data": {
      "text/plain": [
       "[<matplotlib.lines.Line2D at 0x7f9b09cabf90>]"
      ]
     },
     "execution_count": 5,
     "metadata": {},
     "output_type": "execute_result"
    },
    {
     "data": {
      "image/png": "[encoded data removed]",
      "text/plain": [
       "<Figure size 432x288 with 1 Axes>"
      ]
     },
     "metadata": {
      "needs_background": "light"
     },
     "output_type": "display_data"
    }
   ],
   "source": [
    "plt.plot(x, one(x))"
   ]
  },
  {
   "cell_type": "code",
   "execution_count": 6,
   "metadata": {},
   "outputs": [
    {
     "data": {
      "text/plain": [
       "[<matplotlib.lines.Line2D at 0x7f9b07b55050>]"
      ]
     },
     "execution_count": 6,
     "metadata": {},
     "output_type": "execute_result"
    },
    {
     "data": {
      "image/png": "[encoded data removed]",
      "text/plain": [
       "<Figure size 432x288 with 1 Axes>"
      ]
     },
     "metadata": {
      "needs_background": "light"
     },
     "output_type": "display_data"
    }
   ],
   "source": [
    "plt.plot(x, np.log(two(x)))"
   ]
  },
  {
   "cell_type": "code",
   "execution_count": 7,
   "metadata": {},
   "outputs": [
    {
     "name": "stdout",
     "output_type": "stream",
     "text": [
      "status:  optimal\n",
      "optimal value:  19.83126370644502\n",
      "optimal solution:\n",
      " [-1.79109253e-19  2.85112420e-02  2.79973443e-19  3.37658751e-20\n",
      " -2.72802659e-19  1.49285011e-01 -9.97212062e-20  8.35373892e-20\n",
      "  2.46718649e-01  5.78224144e-01 -4.03739462e-19  1.01242860e-03\n",
      " -9.28486200e-20  2.26767464e-01 -1.58813677e-19 -8.97232308e-20\n",
      " -1.22145726e-19 -1.51509432e-19  1.12060673e-19 -3.48318630e-19]\n",
      "dual constraints:\n",
      " [ 2.50938945  0.          2.78354615  1.79425782 13.08579183  0.\n",
      "  0.73716363  3.35344995  0.          0.          8.93825054  0.\n",
      "  7.02955161  0.          4.71068649  3.18873635  2.06090107 10.08166738\n",
      "  3.0481157   8.53268239]\n"
     ]
    }
   ],
   "source": [
    "# Toy problem from front page\n",
    "m = 30\n",
    "n = 20\n",
    "np.random.seed(1)\n",
    "A = np.random.randn(m, n)\n",
    "b = np.random.randn(m)\n",
    "\n",
    "x = cp.Variable(n)\n",
    "objective = cp.Minimize(cp.sum_squares(A @ x - b))\n",
    "constraints = [0 <= x, x <= 1]\n",
    "prob = cp.Problem(objective, constraints)\n",
    "\n",
    "result = prob.solve()\n",
    "\n",
    "print(\"status: \", prob.status)\n",
    "print(\"optimal value: \", result)\n",
    "print(\"optimal solution:\\n\", x.value)\n",
    "print(\"dual constraints:\\n\", constraints[0].dual_value)"
   ]
  },
  {
   "cell_type": "markdown",
   "metadata": {},
   "source": [
    "CVXPY automatically transforms an optimization problem statement into standard form, calls a solver, and unpacks the results.\n",
    "\n",
    "**Problems** are immutable. To change objectives or constraints, just create another problem."
   ]
  },
  {
   "cell_type": "code",
   "execution_count": 8,
   "metadata": {},
   "outputs": [
    {
     "name": "stdout",
     "output_type": "stream",
     "text": [
      "status:  optimal\n",
      "x - y value: 3.0\n",
      "optimal var:  2.0 -1.0\n",
      "optimal (x + y == 1) dual variable 2.220446049250313e-16\n",
      "optimal (x - y >= 1) dual variable 6.000000000000001\n"
     ]
    }
   ],
   "source": [
    "x = cp.Variable()\n",
    "y = cp.Variable()\n",
    "\n",
    "constraints = [x + y == 1,\n",
    "                x - y >= 3]\n",
    "\n",
    "obj = cp.Minimize((x - y)**2)\n",
    "\n",
    "prob = cp.Problem(obj, constraints)\n",
    "prob.solve()\n",
    "print(\"status: \", prob.status)\n",
    "print(\"x - y value:\", (x - y).value)\n",
    "print(\"optimal var: \", x.value, y.value)\n",
    "print(\"optimal (x + y == 1) dual variable\", constraints[0].dual_value)\n",
    "print(\"optimal (x - y >= 1) dual variable\", constraints[1].dual_value)\n"
   ]
  },
  {
   "cell_type": "code",
   "execution_count": 9,
   "metadata": {},
   "outputs": [
    {
     "name": "stdout",
     "output_type": "stream",
     "text": [
      "status:  infeasible\n",
      "optimal value:  inf\n",
      "status:  unbounded\n",
      "optimal value:  -inf\n"
     ]
    }
   ],
   "source": [
    "prob2 = cp.Problem(cp.Minimize(x), [x >= 1, x <= 0])\n",
    "prob2.solve()\n",
    "print(\"status: \", prob2.status)\n",
    "print(\"optimal value: \", prob2.value)\n",
    "\n",
    "prob3 = cp.Problem(cp.Minimize(x))\n",
    "prob3.solve()\n",
    "print(\"status: \", prob3.status)\n",
    "print(\"optimal value: \", prob3.value)"
   ]
  },
  {
   "cell_type": "code",
   "execution_count": 10,
   "metadata": {},
   "outputs": [
    {
     "name": "stdout",
     "output_type": "stream",
     "text": [
      "Optimal value 4.141338603672535\n",
      "Optimal var\n",
      "[-4.95922264e-21  6.07571976e-21  1.34643668e-01  1.24976681e-01\n",
      " -4.57130806e-21]\n"
     ]
    }
   ],
   "source": [
    "# A problem with matrices\n",
    "m = 10\n",
    "n = 5\n",
    "np.random.seed(1)\n",
    "A = np.random.randn(m, n)\n",
    "b = np.random.randn(m)\n",
    "\n",
    "x = cp.Variable(n)\n",
    "obj = cp.Minimize(cp.sum_squares(A @ x - b))\n",
    "constraints = [0 <= x, x <= 1]\n",
    "prob = cp.Problem(obj, constraints)\n",
    "\n",
    "print(\"Optimal value\", prob.solve())\n",
    "print(\"Optimal var\")\n",
    "print(x.value) # A numpy ndarray."
   ]
  },
  {
   "cell_type": "code",
   "execution_count": 11,
   "metadata": {},
   "outputs": [
    {
     "data": {
      "image/png": "[encoded data removed]",
      "text/plain": [
       "<Figure size 432x720 with 2 Axes>"
      ]
     },
     "metadata": {
      "needs_background": "light"
     },
     "output_type": "display_data"
    }
   ],
   "source": [
    "# Parameter use for regularized regression\n",
    "n = 10\n",
    "m = 15\n",
    "\n",
    "A = np.random.randn(m, n)\n",
    "b = np.random.randn(m)\n",
    "\n",
    "gamma = cp.Parameter(nonneg=True)\n",
    "\n",
    "x = cp.Variable(n)\n",
    "error = cp.sum_squares(A @ x - b)\n",
    "obj = cp.Minimize(error + gamma * cp.norm(x, 1))  # LASSO ell-1\n",
    "prob = cp.Problem(obj)\n",
    "\n",
    "sq_penalty = []\n",
    "l1_penalty = []\n",
    "x_values = []\n",
    "gamma_vals = np.logspace(-4, 6)\n",
    "for val in gamma_vals:\n",
    "    gamma.value = val\n",
    "    prob.solve()\n",
    "    sq_penalty.append(error.value)\n",
    "    l1_penalty.append(cp.norm(x, 1).value)\n",
    "    x_values.append(x.value)\n",
    "\n",
    "plt.rc('text', usetex=True)\n",
    "plt.rc('font', family='serif')\n",
    "plt.figure(figsize=(6, 10))\n",
    "\n",
    "plt.subplot(211)\n",
    "plt.plot(l1_penalty, sq_penalty)\n",
    "plt.xlabel(r'$\\|x\\|_1$', fontsize=16)\n",
    "plt.ylabel(r'$\\|Ax - b\\|^2$', fontsize=16)\n",
    "plt.title('Trade-Off Curve for LASSO', fontsize=16)\n",
    "\n",
    "plt.subplot(212)\n",
    "for i in range(n):\n",
    "    plt.plot(gamma_vals, [xi[i] for xi in x_values])\n",
    "plt.xlabel(r'$\\gamma$', fontsize=16)\n",
    "plt.ylabel(r'$x_{i}$', fontsize=16)\n",
    "plt.xscale('log')\n",
    "plt.title(r'Entries of x vs. $\\gamma$', fontsize=16)\n",
    "\n",
    "plt.tight_layout()\n",
    "plt.show()"
   ]
  },
  {
   "cell_type": "code",
   "execution_count": 12,
   "metadata": {},
   "outputs": [
    {
     "data": {
      "text/plain": [
       "Text(0, 0.5, '$-e^x$')"
      ]
     },
     "execution_count": 12,
     "metadata": {},
     "output_type": "execute_result"
    },
    {
     "data": {
      "image/png": "[encoded data removed]",
      "text/plain": [
       "<Figure size 432x288 with 1 Axes>"
      ]
     },
     "metadata": {
      "needs_background": "light"
     },
     "output_type": "display_data"
    }
   ],
   "source": [
    "domf = (-2, 2)\n",
    "alpha = -2\n",
    "x = np.linspace(*domf)\n",
    "fx = lambda i: - np.exp(i)\n",
    "plt.plot(x, fx(x))\n",
    "plt.axhline(alpha, ls=\"--\")\n",
    "\n",
    "xs = np.random.uniform(*domf, size=100)\n",
    "sublevel = fx(xs) <= alpha\n",
    "superlevel = np.logical_not(sublevel)\n",
    "plt.plot(xs[sublevel], fx(xs[sublevel]), ls='None', marker='.', color=\"green\")\n",
    "plt.plot(xs[superlevel], fx(xs[superlevel]), ls='None', marker='.', color=\"orange\")\n",
    "\n",
    "plt.xlabel(r'x')\n",
    "plt.ylabel(r'$-e^x$')"
   ]
  },
  {
   "cell_type": "code",
   "execution_count": 20,
   "metadata": {},
   "outputs": [
    {
     "name": "stdout",
     "output_type": "stream",
     "text": [
      "-4.701404403200564 -3.8574255306969745\n"
     ]
    }
   ],
   "source": [
    "mix = lambda x, y: fx(0.5 * x + 0.5 * y)\n",
    "x1 = .7\n",
    "x2 = 2\n",
    "print(0.5*fx(x1) + 0.5*fx(x2), mix(x1, x2))"
   ]
  },
  {
   "cell_type": "code",
   "execution_count": 24,
   "metadata": {},
   "outputs": [
    {
     "name": "stdout",
     "output_type": "stream",
     "text": [
      "(0.39999999997244906, 0.19999999993917628)->0.5999999999116253\n",
      "(0.5000000000000001, 0.1666666666666667)->0.5000000000000002\n"
     ]
    }
   ],
   "source": [
    "x1 = cp.Variable(nonneg=True)\n",
    "x2 = cp.Variable(nonneg=True)\n",
    "\n",
    "constraints = [2*x1 + x2 >= 1,\n",
    "               x1 + 3*x2 >= 1]\n",
    "\n",
    "f0 = x1 + x2\n",
    "f1 = x1**2 + 9*x2**2\n",
    "\n",
    "prob0 = cp.Problem(cp.Minimize(f0), constraints)\n",
    "prob1 = cp.Problem(cp.Minimize(f1), constraints)\n",
    "prob0.solve()\n",
    "print(f\"({x1.value}, {x2.value})->{prob0.value}\")\n",
    "prob1.solve()\n",
    "print(f\"({x1.value}, {x2.value})->{prob1.value}\")"
   ]
  },
  {
   "cell_type": "markdown",
   "metadata": {},
   "source": [
    "## Boolean Relaxation\n",
    "$$\n",
    "\\begin{align*}\n",
    "& \\underset{x}{\\text{minimize}} & & c^T x \\\\\n",
    "& \\text{subject to} & & Ax \\preceq b\\\\\n",
    "& & & x_i \\in \\{0, 1\\}, \\; i = 1, \\ldots, m.\n",
    "\\end{align*}\n",
    "$$\n",
    "If $x$ has $n$ variables there are $2^n$ possible values to brute force verify the optimal value $p^*$. Each value $x_i$ can be a job either accepted or declined, and $-c_i$ as the (positive) revenue for accepting job $i$. The constraints $Ax \\preceq b$ are a set of $m$ resource limits. $A_{ij}$ is the amount of resource $i$ comsumed if job $j$ is accepted; $b_i$ is the amount of resource available. \n",
    "\n",
    "Let $x^{rlx}$ be a solution of the LP relaxation\n",
    "$$\n",
    "\\begin{align*}\n",
    "& \\underset{x}{\\text{minimize}} & & c^T x \\\\\n",
    "& \\text{subject to} & & Ax \\preceq b\\\\\n",
    "& & & 0 \\preceq x \\preceq \\mathbf 1,\n",
    "\\end{align*}\n",
    "$$\n",
    "so $L = c^T x^{rlx}$ is a lower bound on $p^*$."
   ]
  },
  {
   "cell_type": "code",
   "execution_count": 101,
   "metadata": {},
   "outputs": [
    {
     "name": "stdout",
     "output_type": "stream",
     "text": [
      "Lower bound p* = -31.32240739560737\n"
     ]
    }
   ],
   "source": [
    "rng = np.random.default_rng(0)\n",
    "n = 100\n",
    "m = 300\n",
    "A = rng.random(size=(m, n))\n",
    "b = (A @ np.ones((n,1))/2).flatten()\n",
    "c = -rng.random(size=(n, 1))\n",
    "x = cp.Variable(n)\n",
    "\n",
    "f0 = cp.Minimize(c.T @ x)\n",
    "constraints = [A @ x <= b,\n",
    "                x >= 0, x <= 1]\n",
    "prob = cp.Problem(f0, constraints)\n",
    "prob.solve()\n",
    "L = prob.value\n",
    "print(\"Lower bound p* =\", L)"
   ]
  },
  {
   "cell_type": "code",
   "execution_count": 92,
   "metadata": {},
   "outputs": [
    {
     "data": {
      "text/plain": [
       "[<matplotlib.lines.Line2D at 0x7f9b51624b10>]"
      ]
     },
     "execution_count": 92,
     "metadata": {},
     "output_type": "execute_result"
    },
    {
     "data": {
      "image/png": "[encoded data removed]",
      "text/plain": [
       "<Figure size 432x288 with 1 Axes>"
      ]
     },
     "metadata": {
      "needs_background": "light"
     },
     "output_type": "display_data"
    }
   ],
   "source": [
    "plt.plot(x.value, 'o')"
   ]
  },
  {
   "cell_type": "markdown",
   "metadata": {},
   "source": [
    "The relaxed solution can be used as a guess for a Boolean point $\\hat x$, by rounding its entries, based on a threshold $t \\in [0, 1]$:\n",
    "$$\n",
    "\\hat x_i = \\begin{cases}\n",
    "1 &\\quad x_i^{rlx} \\geq t\\\\\n",
    "0 &\\quad \\text{otherwise}.\n",
    "\\end{cases}\n",
    "$$\n",
    "The objective value $U = c^T \\hat x$ is an upperbound on $p^*$."
   ]
  },
  {
   "cell_type": "code",
   "execution_count": 82,
   "metadata": {},
   "outputs": [],
   "source": [
    "t_param = np.linspace(0, 1, 100)\n",
    "obj = []\n",
    "maxviol = []\n",
    "for t in t_param:\n",
    "    xhat = x.value >= t\n",
    "    obj.append(c.T @ xhat)\n",
    "    maxviol.append((A @ xhat - b).max())"
   ]
  },
  {
   "cell_type": "code",
   "execution_count": 91,
   "metadata": {},
   "outputs": [
    {
     "data": {
      "image/png": "[encoded data removed]",
      "text/plain": [
       "<Figure size 432x288 with 2 Axes>"
      ]
     },
     "metadata": {
      "needs_background": "light"
     },
     "output_type": "display_data"
    }
   ],
   "source": [
    "_, ax = plt.subplots(2, 1)\n",
    "ax[0].set_title(\"Boolean Relaxation Optimization for n=100, m=300\")\n",
    "ax[0].plot(t_param, obj)\n",
    "ax[0].set_ylabel(r\"$c^T\\hat x$\")\n",
    "ax[1].plot(t_param, maxviol)\n",
    "ax[1].set_ylabel(r\"$\\max (A \\hat x - b)$\")\n",
    "ax[1].set_xlabel(\"Threshold t\");"
   ]
  },
  {
   "cell_type": "code",
   "execution_count": 100,
   "metadata": {},
   "outputs": [
    {
     "name": "stdout",
     "output_type": "stream",
     "text": [
      "U - L = 0.7158319574535383\n"
     ]
    }
   ],
   "source": [
    "U = np.array(obj)[np.array(maxviol) <= 0].min()\n",
    "print(\"U - L =\", U - L)"
   ]
  },
  {
   "cell_type": "markdown",
   "metadata": {},
   "source": [
    "## Simple portfolio optimization"
   ]
  },
  {
   "cell_type": "code",
   "execution_count": 134,
   "metadata": {},
   "outputs": [],
   "source": [
    "# simple_portfolio_data\n",
    "rng = np.random.default_rng(5)\n",
    "n=20\n",
    "pbar = np.ones(n)*.03+ np.append(rng.random(n-1), 0)*.12\n",
    "# pbar = pbar.reshape(-1, 1)\n",
    "\n",
    "S = rng.standard_normal(size=(n,n))\n",
    "S = S.T @ S\n",
    "S = S/np.max(np.abs(np.diag(S)))*.2\n",
    "S[:,-1] = 0\n",
    "S[-1, :] = 0\n",
    "x_unif = np.ones((n,1))/n"
   ]
  },
  {
   "cell_type": "code",
   "execution_count": 142,
   "metadata": {},
   "outputs": [
    {
     "data": {
      "text/plain": [
       "array([[0.00694791]])"
      ]
     },
     "execution_count": 142,
     "metadata": {},
     "output_type": "execute_result"
    }
   ],
   "source": [
    "x_unif.T @ S @ x_unif"
   ]
  },
  {
   "cell_type": "code",
   "execution_count": 158,
   "metadata": {},
   "outputs": [
    {
     "data": {
      "text/plain": [
       "0.0008108653291694134"
      ]
     },
     "execution_count": 158,
     "metadata": {},
     "output_type": "execute_result"
    }
   ],
   "source": [
    "x = cp.Variable(n)\n",
    "risk = cp.Minimize(cp.quad_form(x, S))\n",
    "constraints = [pbar.T @ x == pbar.T @ x_unif,\n",
    "            np.ones(n) @ x == 1,\n",
    "            np.ones(n) @ cp.maximum(-x, np.zeros(n)) <= 0.5\n",
    "            ]\n",
    "portfolio = cp.Problem(risk, constraints)\n",
    "portfolio.solve()"
   ]
  },
  {
   "cell_type": "code",
   "execution_count": 163,
   "metadata": {},
   "outputs": [
    {
     "data": {
      "text/plain": [
       "array([0.10509662, 0.2       , 0.17016146, 0.1185965 , 0.10386855,\n",
       "       0.11229675, 0.19452588, 0.1715163 , 0.1387476 , 0.17948996,\n",
       "       0.17371766, 0.11848555, 0.14148078, 0.07166171, 0.11201423,\n",
       "       0.1565625 , 0.13298619, 0.08552065, 0.10536455, 0.        ])"
      ]
     },
     "execution_count": 163,
     "metadata": {},
     "output_type": "execute_result"
    }
   ],
   "source": [
    "np.diag(S)"
   ]
  },
  {
   "cell_type": "code",
   "execution_count": 164,
   "metadata": {},
   "outputs": [
    {
     "data": {
      "text/plain": [
       "[<matplotlib.lines.Line2D at 0x7f9b5140fc50>]"
      ]
     },
     "execution_count": 164,
     "metadata": {},
     "output_type": "execute_result"
    },
    {
     "data": {
      "image/png": "[encoded data removed]",
      "text/plain": [
       "<Figure size 432x288 with 1 Axes>"
      ]
     },
     "metadata": {
      "needs_background": "light"
     },
     "output_type": "display_data"
    }
   ],
   "source": [
    "plt.plot(pbar)\n",
    "plt.plot(x.value)"
   ]
  }
 ],
 "metadata": {
  "interpreter": {
   "hash": "31f2aee4e71d21fbe5cf8b01ff0e069b9275f58929596ceb00d14d90e3e16cd6"
  },
  "kernelspec": {
   "display_name": "Python 3.7.5 64-bit",
   "language": "python",
   "name": "python3"
  },
  "language_info": {
   "codemirror_mode": {
    "name": "ipython",
    "version": 3
   },
   "file_extension": ".py",
   "mimetype": "text/x-python",
   "name": "python",
   "nbconvert_exporter": "python",
   "pygments_lexer": "ipython3",
   "version": "3.7.5"
  },
  "orig_nbformat": 4
 },
 "nbformat": 4,
 "nbformat_minor": 2
}
